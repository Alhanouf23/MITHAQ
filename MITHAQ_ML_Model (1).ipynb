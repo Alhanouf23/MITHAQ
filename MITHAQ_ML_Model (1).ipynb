{
 "cells": [
  {
   "cell_type": "code",
   "execution_count": 1,
   "id": "7b32ad4e",
   "metadata": {
    "execution": {
     "iopub.execute_input": "2025-01-28T18:08:46.846254Z",
     "iopub.status.busy": "2025-01-28T18:08:46.845450Z",
     "iopub.status.idle": "2025-01-28T18:08:46.850176Z",
     "shell.execute_reply": "2025-01-28T18:08:46.849413Z"
    },
    "papermill": {
     "duration": 0.024014,
     "end_time": "2025-01-28T18:08:46.851882",
     "exception": false,
     "start_time": "2025-01-28T18:08:46.827868",
     "status": "completed"
    },
    "tags": []
   },
   "outputs": [],
   "source": [
    "# **Import Libraries**"
   ]
  },
  {
   "cell_type": "markdown",
   "id": "ad2c5f75",
   "metadata": {
    "papermill": {
     "duration": 0.013773,
     "end_time": "2025-01-28T18:08:46.879771",
     "exception": false,
     "start_time": "2025-01-28T18:08:46.865998",
     "status": "completed"
    },
    "tags": []
   },
   "source": [
    " "
   ]
  },
  {
   "cell_type": "code",
   "execution_count": 2,
   "id": "aeac31a1",
   "metadata": {
    "execution": {
     "iopub.execute_input": "2025-01-28T18:08:46.908601Z",
     "iopub.status.busy": "2025-01-28T18:08:46.907857Z",
     "iopub.status.idle": "2025-01-28T18:08:49.936544Z",
     "shell.execute_reply": "2025-01-28T18:08:49.935349Z"
    },
    "papermill": {
     "duration": 3.045907,
     "end_time": "2025-01-28T18:08:49.939288",
     "exception": false,
     "start_time": "2025-01-28T18:08:46.893381",
     "status": "completed"
    },
    "tags": []
   },
   "outputs": [],
   "source": [
    "import pandas as pd\n",
    "import numpy as np  \n",
    "from imblearn.over_sampling import SMOTE\n",
    "import matplotlib.pyplot as plt\n",
    "import seaborn as sns\n",
    "from sklearn.model_selection import train_test_split, cross_val_score, StratifiedKFold, learning_curve\n",
    "from sklearn.ensemble import RandomForestClassifier\n",
    "from sklearn.metrics import accuracy_score, confusion_matrix, precision_score, recall_score, f1_score, roc_curve, auc\n",
    "from sklearn.preprocessing import OrdinalEncoder"
   ]
  },
  {
   "cell_type": "markdown",
   "id": "e11fb529",
   "metadata": {
    "papermill": {
     "duration": 0.023743,
     "end_time": "2025-01-28T18:08:49.983342",
     "exception": false,
     "start_time": "2025-01-28T18:08:49.959599",
     "status": "completed"
    },
    "tags": []
   },
   "source": [
    "# **Preprocessing** "
   ]
  },
  {
   "cell_type": "markdown",
   "id": "ff41de7e",
   "metadata": {
    "papermill": {
     "duration": 0.025104,
     "end_time": "2025-01-28T18:08:50.034902",
     "exception": false,
     "start_time": "2025-01-28T18:08:50.009798",
     "status": "completed"
    },
    "tags": []
   },
   "source": [
    "# Data Overview"
   ]
  },
  {
   "cell_type": "markdown",
   "id": "ccd181d3",
   "metadata": {
    "papermill": {
     "duration": 0.013318,
     "end_time": "2025-01-28T18:08:50.062478",
     "exception": false,
     "start_time": "2025-01-28T18:08:50.049160",
     "status": "completed"
    },
    "tags": []
   },
   "source": [
    " "
   ]
  },
  {
   "cell_type": "code",
   "execution_count": 3,
   "id": "d6814822",
   "metadata": {
    "execution": {
     "iopub.execute_input": "2025-01-28T18:08:50.091353Z",
     "iopub.status.busy": "2025-01-28T18:08:50.090845Z",
     "iopub.status.idle": "2025-01-28T18:08:50.285567Z",
     "shell.execute_reply": "2025-01-28T18:08:50.284456Z"
    },
    "papermill": {
     "duration": 0.21194,
     "end_time": "2025-01-28T18:08:50.288118",
     "exception": false,
     "start_time": "2025-01-28T18:08:50.076178",
     "status": "completed"
    },
    "tags": []
   },
   "outputs": [],
   "source": [
    "# 1. Read data\n",
    "data = pd.read_csv(\"/kaggle/input/employees-evaluation-for-promotion/employee_promotion.csv\")\n"
   ]
  },
  {
   "cell_type": "markdown",
   "id": "fd12bfc8",
   "metadata": {
    "papermill": {
     "duration": 0.013289,
     "end_time": "2025-01-28T18:08:50.318651",
     "exception": false,
     "start_time": "2025-01-28T18:08:50.305362",
     "status": "completed"
    },
    "tags": []
   },
   "source": [
    "# Display first and last five instances of dataset"
   ]
  },
  {
   "cell_type": "code",
   "execution_count": 4,
   "id": "4e0929b8",
   "metadata": {
    "execution": {
     "iopub.execute_input": "2025-01-28T18:08:50.345829Z",
     "iopub.status.busy": "2025-01-28T18:08:50.345492Z",
     "iopub.status.idle": "2025-01-28T18:08:50.367987Z",
     "shell.execute_reply": "2025-01-28T18:08:50.366988Z"
    },
    "papermill": {
     "duration": 0.037902,
     "end_time": "2025-01-28T18:08:50.369872",
     "exception": false,
     "start_time": "2025-01-28T18:08:50.331970",
     "status": "completed"
    },
    "tags": []
   },
   "outputs": [
    {
     "data": {
      "text/html": [
       "<div>\n",
       "<style scoped>\n",
       "    .dataframe tbody tr th:only-of-type {\n",
       "        vertical-align: middle;\n",
       "    }\n",
       "\n",
       "    .dataframe tbody tr th {\n",
       "        vertical-align: top;\n",
       "    }\n",
       "\n",
       "    .dataframe thead th {\n",
       "        text-align: right;\n",
       "    }\n",
       "</style>\n",
       "<table border=\"1\" class=\"dataframe\">\n",
       "  <thead>\n",
       "    <tr style=\"text-align: right;\">\n",
       "      <th></th>\n",
       "      <th>employee_id</th>\n",
       "      <th>department</th>\n",
       "      <th>region</th>\n",
       "      <th>education</th>\n",
       "      <th>gender</th>\n",
       "      <th>recruitment_channel</th>\n",
       "      <th>no_of_trainings</th>\n",
       "      <th>age</th>\n",
       "      <th>previous_year_rating</th>\n",
       "      <th>length_of_service</th>\n",
       "      <th>awards_won</th>\n",
       "      <th>avg_training_score</th>\n",
       "      <th>is_promoted</th>\n",
       "    </tr>\n",
       "  </thead>\n",
       "  <tbody>\n",
       "    <tr>\n",
       "      <th>0</th>\n",
       "      <td>65438</td>\n",
       "      <td>Sales &amp; Marketing</td>\n",
       "      <td>region_7</td>\n",
       "      <td>Master's &amp; above</td>\n",
       "      <td>f</td>\n",
       "      <td>sourcing</td>\n",
       "      <td>1</td>\n",
       "      <td>35</td>\n",
       "      <td>5.0</td>\n",
       "      <td>8</td>\n",
       "      <td>0</td>\n",
       "      <td>49.0</td>\n",
       "      <td>0</td>\n",
       "    </tr>\n",
       "    <tr>\n",
       "      <th>1</th>\n",
       "      <td>65141</td>\n",
       "      <td>Operations</td>\n",
       "      <td>region_22</td>\n",
       "      <td>Bachelor's</td>\n",
       "      <td>m</td>\n",
       "      <td>other</td>\n",
       "      <td>1</td>\n",
       "      <td>30</td>\n",
       "      <td>5.0</td>\n",
       "      <td>4</td>\n",
       "      <td>0</td>\n",
       "      <td>60.0</td>\n",
       "      <td>0</td>\n",
       "    </tr>\n",
       "    <tr>\n",
       "      <th>2</th>\n",
       "      <td>7513</td>\n",
       "      <td>Sales &amp; Marketing</td>\n",
       "      <td>region_19</td>\n",
       "      <td>Bachelor's</td>\n",
       "      <td>m</td>\n",
       "      <td>sourcing</td>\n",
       "      <td>1</td>\n",
       "      <td>34</td>\n",
       "      <td>3.0</td>\n",
       "      <td>7</td>\n",
       "      <td>0</td>\n",
       "      <td>50.0</td>\n",
       "      <td>0</td>\n",
       "    </tr>\n",
       "    <tr>\n",
       "      <th>3</th>\n",
       "      <td>2542</td>\n",
       "      <td>Sales &amp; Marketing</td>\n",
       "      <td>region_23</td>\n",
       "      <td>Bachelor's</td>\n",
       "      <td>m</td>\n",
       "      <td>other</td>\n",
       "      <td>2</td>\n",
       "      <td>39</td>\n",
       "      <td>1.0</td>\n",
       "      <td>10</td>\n",
       "      <td>0</td>\n",
       "      <td>50.0</td>\n",
       "      <td>0</td>\n",
       "    </tr>\n",
       "    <tr>\n",
       "      <th>4</th>\n",
       "      <td>48945</td>\n",
       "      <td>Technology</td>\n",
       "      <td>region_26</td>\n",
       "      <td>Bachelor's</td>\n",
       "      <td>m</td>\n",
       "      <td>other</td>\n",
       "      <td>1</td>\n",
       "      <td>45</td>\n",
       "      <td>3.0</td>\n",
       "      <td>2</td>\n",
       "      <td>0</td>\n",
       "      <td>73.0</td>\n",
       "      <td>0</td>\n",
       "    </tr>\n",
       "  </tbody>\n",
       "</table>\n",
       "</div>"
      ],
      "text/plain": [
       "   employee_id         department     region         education gender  \\\n",
       "0        65438  Sales & Marketing   region_7  Master's & above      f   \n",
       "1        65141         Operations  region_22        Bachelor's      m   \n",
       "2         7513  Sales & Marketing  region_19        Bachelor's      m   \n",
       "3         2542  Sales & Marketing  region_23        Bachelor's      m   \n",
       "4        48945         Technology  region_26        Bachelor's      m   \n",
       "\n",
       "  recruitment_channel  no_of_trainings  age  previous_year_rating  \\\n",
       "0            sourcing                1   35                   5.0   \n",
       "1               other                1   30                   5.0   \n",
       "2            sourcing                1   34                   3.0   \n",
       "3               other                2   39                   1.0   \n",
       "4               other                1   45                   3.0   \n",
       "\n",
       "   length_of_service  awards_won  avg_training_score  is_promoted  \n",
       "0                  8           0                49.0            0  \n",
       "1                  4           0                60.0            0  \n",
       "2                  7           0                50.0            0  \n",
       "3                 10           0                50.0            0  \n",
       "4                  2           0                73.0            0  "
      ]
     },
     "execution_count": 4,
     "metadata": {},
     "output_type": "execute_result"
    }
   ],
   "source": [
    "data.head()"
   ]
  },
  {
   "cell_type": "code",
   "execution_count": 5,
   "id": "216af878",
   "metadata": {
    "execution": {
     "iopub.execute_input": "2025-01-28T18:08:50.399013Z",
     "iopub.status.busy": "2025-01-28T18:08:50.398138Z",
     "iopub.status.idle": "2025-01-28T18:08:50.413037Z",
     "shell.execute_reply": "2025-01-28T18:08:50.411938Z"
    },
    "papermill": {
     "duration": 0.031343,
     "end_time": "2025-01-28T18:08:50.414935",
     "exception": false,
     "start_time": "2025-01-28T18:08:50.383592",
     "status": "completed"
    },
    "tags": []
   },
   "outputs": [
    {
     "data": {
      "text/html": [
       "<div>\n",
       "<style scoped>\n",
       "    .dataframe tbody tr th:only-of-type {\n",
       "        vertical-align: middle;\n",
       "    }\n",
       "\n",
       "    .dataframe tbody tr th {\n",
       "        vertical-align: top;\n",
       "    }\n",
       "\n",
       "    .dataframe thead th {\n",
       "        text-align: right;\n",
       "    }\n",
       "</style>\n",
       "<table border=\"1\" class=\"dataframe\">\n",
       "  <thead>\n",
       "    <tr style=\"text-align: right;\">\n",
       "      <th></th>\n",
       "      <th>employee_id</th>\n",
       "      <th>department</th>\n",
       "      <th>region</th>\n",
       "      <th>education</th>\n",
       "      <th>gender</th>\n",
       "      <th>recruitment_channel</th>\n",
       "      <th>no_of_trainings</th>\n",
       "      <th>age</th>\n",
       "      <th>previous_year_rating</th>\n",
       "      <th>length_of_service</th>\n",
       "      <th>awards_won</th>\n",
       "      <th>avg_training_score</th>\n",
       "      <th>is_promoted</th>\n",
       "    </tr>\n",
       "  </thead>\n",
       "  <tbody>\n",
       "    <tr>\n",
       "      <th>54803</th>\n",
       "      <td>3030</td>\n",
       "      <td>Technology</td>\n",
       "      <td>region_14</td>\n",
       "      <td>Bachelor's</td>\n",
       "      <td>m</td>\n",
       "      <td>sourcing</td>\n",
       "      <td>1</td>\n",
       "      <td>48</td>\n",
       "      <td>3.0</td>\n",
       "      <td>17</td>\n",
       "      <td>0</td>\n",
       "      <td>78.0</td>\n",
       "      <td>0</td>\n",
       "    </tr>\n",
       "    <tr>\n",
       "      <th>54804</th>\n",
       "      <td>74592</td>\n",
       "      <td>Operations</td>\n",
       "      <td>region_27</td>\n",
       "      <td>Master's &amp; above</td>\n",
       "      <td>f</td>\n",
       "      <td>other</td>\n",
       "      <td>1</td>\n",
       "      <td>37</td>\n",
       "      <td>2.0</td>\n",
       "      <td>6</td>\n",
       "      <td>0</td>\n",
       "      <td>56.0</td>\n",
       "      <td>0</td>\n",
       "    </tr>\n",
       "    <tr>\n",
       "      <th>54805</th>\n",
       "      <td>13918</td>\n",
       "      <td>Analytics</td>\n",
       "      <td>region_1</td>\n",
       "      <td>Bachelor's</td>\n",
       "      <td>m</td>\n",
       "      <td>other</td>\n",
       "      <td>1</td>\n",
       "      <td>27</td>\n",
       "      <td>5.0</td>\n",
       "      <td>3</td>\n",
       "      <td>0</td>\n",
       "      <td>79.0</td>\n",
       "      <td>0</td>\n",
       "    </tr>\n",
       "    <tr>\n",
       "      <th>54806</th>\n",
       "      <td>13614</td>\n",
       "      <td>Sales &amp; Marketing</td>\n",
       "      <td>region_9</td>\n",
       "      <td>NaN</td>\n",
       "      <td>m</td>\n",
       "      <td>sourcing</td>\n",
       "      <td>1</td>\n",
       "      <td>29</td>\n",
       "      <td>1.0</td>\n",
       "      <td>2</td>\n",
       "      <td>0</td>\n",
       "      <td>NaN</td>\n",
       "      <td>0</td>\n",
       "    </tr>\n",
       "    <tr>\n",
       "      <th>54807</th>\n",
       "      <td>51526</td>\n",
       "      <td>HR</td>\n",
       "      <td>region_22</td>\n",
       "      <td>Bachelor's</td>\n",
       "      <td>m</td>\n",
       "      <td>other</td>\n",
       "      <td>1</td>\n",
       "      <td>27</td>\n",
       "      <td>1.0</td>\n",
       "      <td>5</td>\n",
       "      <td>0</td>\n",
       "      <td>49.0</td>\n",
       "      <td>0</td>\n",
       "    </tr>\n",
       "  </tbody>\n",
       "</table>\n",
       "</div>"
      ],
      "text/plain": [
       "       employee_id         department     region         education gender  \\\n",
       "54803         3030         Technology  region_14        Bachelor's      m   \n",
       "54804        74592         Operations  region_27  Master's & above      f   \n",
       "54805        13918          Analytics   region_1        Bachelor's      m   \n",
       "54806        13614  Sales & Marketing   region_9               NaN      m   \n",
       "54807        51526                 HR  region_22        Bachelor's      m   \n",
       "\n",
       "      recruitment_channel  no_of_trainings  age  previous_year_rating  \\\n",
       "54803            sourcing                1   48                   3.0   \n",
       "54804               other                1   37                   2.0   \n",
       "54805               other                1   27                   5.0   \n",
       "54806            sourcing                1   29                   1.0   \n",
       "54807               other                1   27                   1.0   \n",
       "\n",
       "       length_of_service  awards_won  avg_training_score  is_promoted  \n",
       "54803                 17           0                78.0            0  \n",
       "54804                  6           0                56.0            0  \n",
       "54805                  3           0                79.0            0  \n",
       "54806                  2           0                 NaN            0  \n",
       "54807                  5           0                49.0            0  "
      ]
     },
     "execution_count": 5,
     "metadata": {},
     "output_type": "execute_result"
    }
   ],
   "source": [
    "data.tail()"
   ]
  },
  {
   "cell_type": "code",
   "execution_count": 6,
   "id": "92921fb5",
   "metadata": {
    "execution": {
     "iopub.execute_input": "2025-01-28T18:08:50.444458Z",
     "iopub.status.busy": "2025-01-28T18:08:50.443726Z",
     "iopub.status.idle": "2025-01-28T18:08:50.492120Z",
     "shell.execute_reply": "2025-01-28T18:08:50.491062Z"
    },
    "papermill": {
     "duration": 0.065362,
     "end_time": "2025-01-28T18:08:50.494159",
     "exception": false,
     "start_time": "2025-01-28T18:08:50.428797",
     "status": "completed"
    },
    "tags": []
   },
   "outputs": [
    {
     "data": {
      "text/html": [
       "<div>\n",
       "<style scoped>\n",
       "    .dataframe tbody tr th:only-of-type {\n",
       "        vertical-align: middle;\n",
       "    }\n",
       "\n",
       "    .dataframe tbody tr th {\n",
       "        vertical-align: top;\n",
       "    }\n",
       "\n",
       "    .dataframe thead th {\n",
       "        text-align: right;\n",
       "    }\n",
       "</style>\n",
       "<table border=\"1\" class=\"dataframe\">\n",
       "  <thead>\n",
       "    <tr style=\"text-align: right;\">\n",
       "      <th></th>\n",
       "      <th>employee_id</th>\n",
       "      <th>no_of_trainings</th>\n",
       "      <th>age</th>\n",
       "      <th>previous_year_rating</th>\n",
       "      <th>length_of_service</th>\n",
       "      <th>awards_won</th>\n",
       "      <th>avg_training_score</th>\n",
       "      <th>is_promoted</th>\n",
       "    </tr>\n",
       "  </thead>\n",
       "  <tbody>\n",
       "    <tr>\n",
       "      <th>count</th>\n",
       "      <td>54808.000000</td>\n",
       "      <td>54808.000000</td>\n",
       "      <td>54808.000000</td>\n",
       "      <td>50684.000000</td>\n",
       "      <td>54808.000000</td>\n",
       "      <td>54808.000000</td>\n",
       "      <td>52248.000000</td>\n",
       "      <td>54808.000000</td>\n",
       "    </tr>\n",
       "    <tr>\n",
       "      <th>mean</th>\n",
       "      <td>39195.830627</td>\n",
       "      <td>1.253011</td>\n",
       "      <td>34.803915</td>\n",
       "      <td>3.329256</td>\n",
       "      <td>5.865512</td>\n",
       "      <td>0.023172</td>\n",
       "      <td>63.712238</td>\n",
       "      <td>0.085170</td>\n",
       "    </tr>\n",
       "    <tr>\n",
       "      <th>std</th>\n",
       "      <td>22586.581449</td>\n",
       "      <td>0.609264</td>\n",
       "      <td>7.660169</td>\n",
       "      <td>1.259993</td>\n",
       "      <td>4.265094</td>\n",
       "      <td>0.150450</td>\n",
       "      <td>13.521910</td>\n",
       "      <td>0.279137</td>\n",
       "    </tr>\n",
       "    <tr>\n",
       "      <th>min</th>\n",
       "      <td>1.000000</td>\n",
       "      <td>1.000000</td>\n",
       "      <td>20.000000</td>\n",
       "      <td>1.000000</td>\n",
       "      <td>1.000000</td>\n",
       "      <td>0.000000</td>\n",
       "      <td>39.000000</td>\n",
       "      <td>0.000000</td>\n",
       "    </tr>\n",
       "    <tr>\n",
       "      <th>25%</th>\n",
       "      <td>19669.750000</td>\n",
       "      <td>1.000000</td>\n",
       "      <td>29.000000</td>\n",
       "      <td>3.000000</td>\n",
       "      <td>3.000000</td>\n",
       "      <td>0.000000</td>\n",
       "      <td>51.000000</td>\n",
       "      <td>0.000000</td>\n",
       "    </tr>\n",
       "    <tr>\n",
       "      <th>50%</th>\n",
       "      <td>39225.500000</td>\n",
       "      <td>1.000000</td>\n",
       "      <td>33.000000</td>\n",
       "      <td>3.000000</td>\n",
       "      <td>5.000000</td>\n",
       "      <td>0.000000</td>\n",
       "      <td>60.000000</td>\n",
       "      <td>0.000000</td>\n",
       "    </tr>\n",
       "    <tr>\n",
       "      <th>75%</th>\n",
       "      <td>58730.500000</td>\n",
       "      <td>1.000000</td>\n",
       "      <td>39.000000</td>\n",
       "      <td>4.000000</td>\n",
       "      <td>7.000000</td>\n",
       "      <td>0.000000</td>\n",
       "      <td>77.000000</td>\n",
       "      <td>0.000000</td>\n",
       "    </tr>\n",
       "    <tr>\n",
       "      <th>max</th>\n",
       "      <td>78298.000000</td>\n",
       "      <td>10.000000</td>\n",
       "      <td>60.000000</td>\n",
       "      <td>5.000000</td>\n",
       "      <td>37.000000</td>\n",
       "      <td>1.000000</td>\n",
       "      <td>99.000000</td>\n",
       "      <td>1.000000</td>\n",
       "    </tr>\n",
       "  </tbody>\n",
       "</table>\n",
       "</div>"
      ],
      "text/plain": [
       "        employee_id  no_of_trainings           age  previous_year_rating  \\\n",
       "count  54808.000000     54808.000000  54808.000000          50684.000000   \n",
       "mean   39195.830627         1.253011     34.803915              3.329256   \n",
       "std    22586.581449         0.609264      7.660169              1.259993   \n",
       "min        1.000000         1.000000     20.000000              1.000000   \n",
       "25%    19669.750000         1.000000     29.000000              3.000000   \n",
       "50%    39225.500000         1.000000     33.000000              3.000000   \n",
       "75%    58730.500000         1.000000     39.000000              4.000000   \n",
       "max    78298.000000        10.000000     60.000000              5.000000   \n",
       "\n",
       "       length_of_service    awards_won  avg_training_score   is_promoted  \n",
       "count       54808.000000  54808.000000        52248.000000  54808.000000  \n",
       "mean            5.865512      0.023172           63.712238      0.085170  \n",
       "std             4.265094      0.150450           13.521910      0.279137  \n",
       "min             1.000000      0.000000           39.000000      0.000000  \n",
       "25%             3.000000      0.000000           51.000000      0.000000  \n",
       "50%             5.000000      0.000000           60.000000      0.000000  \n",
       "75%             7.000000      0.000000           77.000000      0.000000  \n",
       "max            37.000000      1.000000           99.000000      1.000000  "
      ]
     },
     "execution_count": 6,
     "metadata": {},
     "output_type": "execute_result"
    }
   ],
   "source": [
    "data.describe()"
   ]
  },
  {
   "cell_type": "markdown",
   "id": "440298b3",
   "metadata": {
    "papermill": {
     "duration": 0.013912,
     "end_time": "2025-01-28T18:08:50.522355",
     "exception": false,
     "start_time": "2025-01-28T18:08:50.508443",
     "status": "completed"
    },
    "tags": []
   },
   "source": [
    "**Columns names**"
   ]
  },
  {
   "cell_type": "markdown",
   "id": "0c2dab93",
   "metadata": {
    "papermill": {
     "duration": 0.01377,
     "end_time": "2025-01-28T18:08:50.550334",
     "exception": false,
     "start_time": "2025-01-28T18:08:50.536564",
     "status": "completed"
    },
    "tags": []
   },
   "source": [
    " "
   ]
  },
  {
   "cell_type": "code",
   "execution_count": 7,
   "id": "62434ed4",
   "metadata": {
    "execution": {
     "iopub.execute_input": "2025-01-28T18:08:50.580395Z",
     "iopub.status.busy": "2025-01-28T18:08:50.579653Z",
     "iopub.status.idle": "2025-01-28T18:08:50.585854Z",
     "shell.execute_reply": "2025-01-28T18:08:50.584899Z"
    },
    "papermill": {
     "duration": 0.023166,
     "end_time": "2025-01-28T18:08:50.587773",
     "exception": false,
     "start_time": "2025-01-28T18:08:50.564607",
     "status": "completed"
    },
    "tags": []
   },
   "outputs": [
    {
     "data": {
      "text/plain": [
       "Index(['employee_id', 'department', 'region', 'education', 'gender',\n",
       "       'recruitment_channel', 'no_of_trainings', 'age', 'previous_year_rating',\n",
       "       'length_of_service', 'awards_won', 'avg_training_score', 'is_promoted'],\n",
       "      dtype='object')"
      ]
     },
     "execution_count": 7,
     "metadata": {},
     "output_type": "execute_result"
    }
   ],
   "source": [
    "data.columns"
   ]
  },
  {
   "cell_type": "code",
   "execution_count": 8,
   "id": "acab6766",
   "metadata": {
    "execution": {
     "iopub.execute_input": "2025-01-28T18:08:50.618155Z",
     "iopub.status.busy": "2025-01-28T18:08:50.617421Z",
     "iopub.status.idle": "2025-01-28T18:08:50.654304Z",
     "shell.execute_reply": "2025-01-28T18:08:50.653277Z"
    },
    "papermill": {
     "duration": 0.054705,
     "end_time": "2025-01-28T18:08:50.656642",
     "exception": false,
     "start_time": "2025-01-28T18:08:50.601937",
     "status": "completed"
    },
    "tags": []
   },
   "outputs": [
    {
     "name": "stdout",
     "output_type": "stream",
     "text": [
      "<class 'pandas.core.frame.DataFrame'>\n",
      "RangeIndex: 54808 entries, 0 to 54807\n",
      "Data columns (total 13 columns):\n",
      " #   Column                Non-Null Count  Dtype  \n",
      "---  ------                --------------  -----  \n",
      " 0   employee_id           54808 non-null  int64  \n",
      " 1   department            54808 non-null  object \n",
      " 2   region                54808 non-null  object \n",
      " 3   education             52399 non-null  object \n",
      " 4   gender                54808 non-null  object \n",
      " 5   recruitment_channel   54808 non-null  object \n",
      " 6   no_of_trainings       54808 non-null  int64  \n",
      " 7   age                   54808 non-null  int64  \n",
      " 8   previous_year_rating  50684 non-null  float64\n",
      " 9   length_of_service     54808 non-null  int64  \n",
      " 10  awards_won            54808 non-null  int64  \n",
      " 11  avg_training_score    52248 non-null  float64\n",
      " 12  is_promoted           54808 non-null  int64  \n",
      "dtypes: float64(2), int64(6), object(5)\n",
      "memory usage: 5.4+ MB\n"
     ]
    }
   ],
   "source": [
    "data.info()"
   ]
  },
  {
   "cell_type": "markdown",
   "id": "3554c449",
   "metadata": {
    "papermill": {
     "duration": 0.013717,
     "end_time": "2025-01-28T18:08:50.686156",
     "exception": false,
     "start_time": "2025-01-28T18:08:50.672439",
     "status": "completed"
    },
    "tags": []
   },
   "source": [
    "# Datatypes of Dataset"
   ]
  },
  {
   "cell_type": "code",
   "execution_count": 9,
   "id": "7851801e",
   "metadata": {
    "execution": {
     "iopub.execute_input": "2025-01-28T18:08:50.717001Z",
     "iopub.status.busy": "2025-01-28T18:08:50.716249Z",
     "iopub.status.idle": "2025-01-28T18:08:50.723606Z",
     "shell.execute_reply": "2025-01-28T18:08:50.722685Z"
    },
    "papermill": {
     "duration": 0.02486,
     "end_time": "2025-01-28T18:08:50.725407",
     "exception": false,
     "start_time": "2025-01-28T18:08:50.700547",
     "status": "completed"
    },
    "tags": []
   },
   "outputs": [
    {
     "data": {
      "text/plain": [
       "employee_id               int64\n",
       "department               object\n",
       "region                   object\n",
       "education                object\n",
       "gender                   object\n",
       "recruitment_channel      object\n",
       "no_of_trainings           int64\n",
       "age                       int64\n",
       "previous_year_rating    float64\n",
       "length_of_service         int64\n",
       "awards_won                int64\n",
       "avg_training_score      float64\n",
       "is_promoted               int64\n",
       "dtype: object"
      ]
     },
     "execution_count": 9,
     "metadata": {},
     "output_type": "execute_result"
    }
   ],
   "source": [
    "# 2. Data types\n",
    "data.dtypes"
   ]
  },
  {
   "cell_type": "markdown",
   "id": "b618e0e5",
   "metadata": {
    "papermill": {
     "duration": 0.014202,
     "end_time": "2025-01-28T18:08:50.753953",
     "exception": false,
     "start_time": "2025-01-28T18:08:50.739751",
     "status": "completed"
    },
    "tags": []
   },
   "source": [
    "# Dataset Shape Before Any Changes"
   ]
  },
  {
   "cell_type": "code",
   "execution_count": 10,
   "id": "9de97ced",
   "metadata": {
    "execution": {
     "iopub.execute_input": "2025-01-28T18:08:50.784184Z",
     "iopub.status.busy": "2025-01-28T18:08:50.783809Z",
     "iopub.status.idle": "2025-01-28T18:08:50.790059Z",
     "shell.execute_reply": "2025-01-28T18:08:50.788957Z"
    },
    "papermill": {
     "duration": 0.023624,
     "end_time": "2025-01-28T18:08:50.791842",
     "exception": false,
     "start_time": "2025-01-28T18:08:50.768218",
     "status": "completed"
    },
    "tags": []
   },
   "outputs": [
    {
     "data": {
      "text/plain": [
       "(54808, 13)"
      ]
     },
     "execution_count": 10,
     "metadata": {},
     "output_type": "execute_result"
    }
   ],
   "source": [
    "data.shape"
   ]
  },
  {
   "cell_type": "markdown",
   "id": "113e9e8c",
   "metadata": {
    "papermill": {
     "duration": 0.014707,
     "end_time": "2025-01-28T18:08:50.822535",
     "exception": false,
     "start_time": "2025-01-28T18:08:50.807828",
     "status": "completed"
    },
    "tags": []
   },
   "source": [
    "# Number of NaN at Dataset"
   ]
  },
  {
   "cell_type": "code",
   "execution_count": 11,
   "id": "b8012fdc",
   "metadata": {
    "execution": {
     "iopub.execute_input": "2025-01-28T18:08:50.852848Z",
     "iopub.status.busy": "2025-01-28T18:08:50.852116Z",
     "iopub.status.idle": "2025-01-28T18:08:50.871971Z",
     "shell.execute_reply": "2025-01-28T18:08:50.870986Z"
    },
    "papermill": {
     "duration": 0.037328,
     "end_time": "2025-01-28T18:08:50.874040",
     "exception": false,
     "start_time": "2025-01-28T18:08:50.836712",
     "status": "completed"
    },
    "tags": []
   },
   "outputs": [
    {
     "data": {
      "text/plain": [
       "8428"
      ]
     },
     "execution_count": 11,
     "metadata": {},
     "output_type": "execute_result"
    }
   ],
   "source": [
    "np.sum(data.isnull().any(axis=1))"
   ]
  },
  {
   "cell_type": "code",
   "execution_count": 12,
   "id": "d1548a8e",
   "metadata": {
    "execution": {
     "iopub.execute_input": "2025-01-28T18:08:50.908570Z",
     "iopub.status.busy": "2025-01-28T18:08:50.907681Z",
     "iopub.status.idle": "2025-01-28T18:08:50.930192Z",
     "shell.execute_reply": "2025-01-28T18:08:50.929250Z"
    },
    "papermill": {
     "duration": 0.041842,
     "end_time": "2025-01-28T18:08:50.932010",
     "exception": false,
     "start_time": "2025-01-28T18:08:50.890168",
     "status": "completed"
    },
    "tags": []
   },
   "outputs": [
    {
     "data": {
      "text/plain": [
       "previous_year_rating    4124\n",
       "avg_training_score      2560\n",
       "education               2409\n",
       "employee_id                0\n",
       "department                 0\n",
       "gender                     0\n",
       "region                     0\n",
       "no_of_trainings            0\n",
       "recruitment_channel        0\n",
       "age                        0\n",
       "length_of_service          0\n",
       "awards_won                 0\n",
       "is_promoted                0\n",
       "dtype: int64"
      ]
     },
     "execution_count": 12,
     "metadata": {},
     "output_type": "execute_result"
    }
   ],
   "source": [
    "# Detect rows that contains null values (NaN) \n",
    "\n",
    "data.isnull().sum().sort_values(ascending=False)"
   ]
  },
  {
   "cell_type": "code",
   "execution_count": 13,
   "id": "421b9ded",
   "metadata": {
    "execution": {
     "iopub.execute_input": "2025-01-28T18:08:50.963435Z",
     "iopub.status.busy": "2025-01-28T18:08:50.962732Z",
     "iopub.status.idle": "2025-01-28T18:08:50.985057Z",
     "shell.execute_reply": "2025-01-28T18:08:50.983897Z"
    },
    "papermill": {
     "duration": 0.040011,
     "end_time": "2025-01-28T18:08:50.987033",
     "exception": false,
     "start_time": "2025-01-28T18:08:50.947022",
     "status": "completed"
    },
    "tags": []
   },
   "outputs": [
    {
     "name": "stdout",
     "output_type": "stream",
     "text": [
      "employee_id: 0.0\n",
      "department: 0.0\n",
      "region: 0.0\n",
      "education: 4.4\n",
      "gender: 0.0\n",
      "recruitment_channel: 0.0\n",
      "no_of_trainings: 0.0\n",
      "age: 0.0\n",
      "previous_year_rating: 7.52\n",
      "length_of_service: 0.0\n",
      "awards_won: 0.0\n",
      "avg_training_score: 4.67\n",
      "is_promoted: 0.0\n"
     ]
    }
   ],
   "source": [
    "# Precentage of columns in each row\n",
    "\n",
    "for column in data.columns:\n",
    "    precentage = data[column].isnull().mean()\n",
    "    print(column + \": \"+ str(round(precentage * 100,2)))"
   ]
  },
  {
   "cell_type": "markdown",
   "id": "3049eefe",
   "metadata": {
    "papermill": {
     "duration": 0.01478,
     "end_time": "2025-01-28T18:08:51.016712",
     "exception": false,
     "start_time": "2025-01-28T18:08:51.001932",
     "status": "completed"
    },
    "tags": []
   },
   "source": [
    "# Deals With NaN Values"
   ]
  },
  {
   "cell_type": "code",
   "execution_count": 14,
   "id": "f5e08509",
   "metadata": {
    "execution": {
     "iopub.execute_input": "2025-01-28T18:08:51.049360Z",
     "iopub.status.busy": "2025-01-28T18:08:51.048440Z",
     "iopub.status.idle": "2025-01-28T18:08:51.062085Z",
     "shell.execute_reply": "2025-01-28T18:08:51.061314Z"
    },
    "papermill": {
     "duration": 0.031607,
     "end_time": "2025-01-28T18:08:51.064075",
     "exception": false,
     "start_time": "2025-01-28T18:08:51.032468",
     "status": "completed"
    },
    "tags": []
   },
   "outputs": [],
   "source": [
    "diretor_prev_year = data[data['previous_year_rating'].isnull()].index\n",
    "data.drop(diretor_prev_year, axis = 0, inplace = True)"
   ]
  },
  {
   "cell_type": "code",
   "execution_count": 15,
   "id": "dccd762b",
   "metadata": {
    "execution": {
     "iopub.execute_input": "2025-01-28T18:08:51.095439Z",
     "iopub.status.busy": "2025-01-28T18:08:51.094739Z",
     "iopub.status.idle": "2025-01-28T18:08:51.140089Z",
     "shell.execute_reply": "2025-01-28T18:08:51.139049Z"
    },
    "papermill": {
     "duration": 0.063129,
     "end_time": "2025-01-28T18:08:51.142148",
     "exception": false,
     "start_time": "2025-01-28T18:08:51.079019",
     "status": "completed"
    },
    "tags": []
   },
   "outputs": [
    {
     "data": {
      "text/html": [
       "<div>\n",
       "<style scoped>\n",
       "    .dataframe tbody tr th:only-of-type {\n",
       "        vertical-align: middle;\n",
       "    }\n",
       "\n",
       "    .dataframe tbody tr th {\n",
       "        vertical-align: top;\n",
       "    }\n",
       "\n",
       "    .dataframe thead th {\n",
       "        text-align: right;\n",
       "    }\n",
       "</style>\n",
       "<table border=\"1\" class=\"dataframe\">\n",
       "  <thead>\n",
       "    <tr style=\"text-align: right;\">\n",
       "      <th></th>\n",
       "      <th>employee_id</th>\n",
       "      <th>department</th>\n",
       "      <th>region</th>\n",
       "      <th>education</th>\n",
       "      <th>gender</th>\n",
       "      <th>recruitment_channel</th>\n",
       "      <th>no_of_trainings</th>\n",
       "      <th>age</th>\n",
       "      <th>previous_year_rating</th>\n",
       "      <th>length_of_service</th>\n",
       "      <th>awards_won</th>\n",
       "      <th>avg_training_score</th>\n",
       "      <th>is_promoted</th>\n",
       "    </tr>\n",
       "  </thead>\n",
       "  <tbody>\n",
       "    <tr>\n",
       "      <th>0</th>\n",
       "      <td>65438</td>\n",
       "      <td>Sales &amp; Marketing</td>\n",
       "      <td>region_7</td>\n",
       "      <td>Master's &amp; above</td>\n",
       "      <td>f</td>\n",
       "      <td>sourcing</td>\n",
       "      <td>1</td>\n",
       "      <td>35</td>\n",
       "      <td>5.0</td>\n",
       "      <td>8</td>\n",
       "      <td>0</td>\n",
       "      <td>49.0</td>\n",
       "      <td>0</td>\n",
       "    </tr>\n",
       "    <tr>\n",
       "      <th>1</th>\n",
       "      <td>65141</td>\n",
       "      <td>Operations</td>\n",
       "      <td>region_22</td>\n",
       "      <td>Bachelor's</td>\n",
       "      <td>m</td>\n",
       "      <td>other</td>\n",
       "      <td>1</td>\n",
       "      <td>30</td>\n",
       "      <td>5.0</td>\n",
       "      <td>4</td>\n",
       "      <td>0</td>\n",
       "      <td>60.0</td>\n",
       "      <td>0</td>\n",
       "    </tr>\n",
       "    <tr>\n",
       "      <th>2</th>\n",
       "      <td>7513</td>\n",
       "      <td>Sales &amp; Marketing</td>\n",
       "      <td>region_19</td>\n",
       "      <td>Bachelor's</td>\n",
       "      <td>m</td>\n",
       "      <td>sourcing</td>\n",
       "      <td>1</td>\n",
       "      <td>34</td>\n",
       "      <td>3.0</td>\n",
       "      <td>7</td>\n",
       "      <td>0</td>\n",
       "      <td>50.0</td>\n",
       "      <td>0</td>\n",
       "    </tr>\n",
       "    <tr>\n",
       "      <th>3</th>\n",
       "      <td>2542</td>\n",
       "      <td>Sales &amp; Marketing</td>\n",
       "      <td>region_23</td>\n",
       "      <td>Bachelor's</td>\n",
       "      <td>m</td>\n",
       "      <td>other</td>\n",
       "      <td>2</td>\n",
       "      <td>39</td>\n",
       "      <td>1.0</td>\n",
       "      <td>10</td>\n",
       "      <td>0</td>\n",
       "      <td>50.0</td>\n",
       "      <td>0</td>\n",
       "    </tr>\n",
       "    <tr>\n",
       "      <th>4</th>\n",
       "      <td>48945</td>\n",
       "      <td>Technology</td>\n",
       "      <td>region_26</td>\n",
       "      <td>Bachelor's</td>\n",
       "      <td>m</td>\n",
       "      <td>other</td>\n",
       "      <td>1</td>\n",
       "      <td>45</td>\n",
       "      <td>3.0</td>\n",
       "      <td>2</td>\n",
       "      <td>0</td>\n",
       "      <td>73.0</td>\n",
       "      <td>0</td>\n",
       "    </tr>\n",
       "    <tr>\n",
       "      <th>...</th>\n",
       "      <td>...</td>\n",
       "      <td>...</td>\n",
       "      <td>...</td>\n",
       "      <td>...</td>\n",
       "      <td>...</td>\n",
       "      <td>...</td>\n",
       "      <td>...</td>\n",
       "      <td>...</td>\n",
       "      <td>...</td>\n",
       "      <td>...</td>\n",
       "      <td>...</td>\n",
       "      <td>...</td>\n",
       "      <td>...</td>\n",
       "    </tr>\n",
       "    <tr>\n",
       "      <th>54803</th>\n",
       "      <td>3030</td>\n",
       "      <td>Technology</td>\n",
       "      <td>region_14</td>\n",
       "      <td>Bachelor's</td>\n",
       "      <td>m</td>\n",
       "      <td>sourcing</td>\n",
       "      <td>1</td>\n",
       "      <td>48</td>\n",
       "      <td>3.0</td>\n",
       "      <td>17</td>\n",
       "      <td>0</td>\n",
       "      <td>78.0</td>\n",
       "      <td>0</td>\n",
       "    </tr>\n",
       "    <tr>\n",
       "      <th>54804</th>\n",
       "      <td>74592</td>\n",
       "      <td>Operations</td>\n",
       "      <td>region_27</td>\n",
       "      <td>Master's &amp; above</td>\n",
       "      <td>f</td>\n",
       "      <td>other</td>\n",
       "      <td>1</td>\n",
       "      <td>37</td>\n",
       "      <td>2.0</td>\n",
       "      <td>6</td>\n",
       "      <td>0</td>\n",
       "      <td>56.0</td>\n",
       "      <td>0</td>\n",
       "    </tr>\n",
       "    <tr>\n",
       "      <th>54805</th>\n",
       "      <td>13918</td>\n",
       "      <td>Analytics</td>\n",
       "      <td>region_1</td>\n",
       "      <td>Bachelor's</td>\n",
       "      <td>m</td>\n",
       "      <td>other</td>\n",
       "      <td>1</td>\n",
       "      <td>27</td>\n",
       "      <td>5.0</td>\n",
       "      <td>3</td>\n",
       "      <td>0</td>\n",
       "      <td>79.0</td>\n",
       "      <td>0</td>\n",
       "    </tr>\n",
       "    <tr>\n",
       "      <th>54806</th>\n",
       "      <td>13614</td>\n",
       "      <td>Sales &amp; Marketing</td>\n",
       "      <td>region_9</td>\n",
       "      <td>NaN</td>\n",
       "      <td>m</td>\n",
       "      <td>sourcing</td>\n",
       "      <td>1</td>\n",
       "      <td>29</td>\n",
       "      <td>1.0</td>\n",
       "      <td>2</td>\n",
       "      <td>0</td>\n",
       "      <td>NaN</td>\n",
       "      <td>0</td>\n",
       "    </tr>\n",
       "    <tr>\n",
       "      <th>54807</th>\n",
       "      <td>51526</td>\n",
       "      <td>HR</td>\n",
       "      <td>region_22</td>\n",
       "      <td>Bachelor's</td>\n",
       "      <td>m</td>\n",
       "      <td>other</td>\n",
       "      <td>1</td>\n",
       "      <td>27</td>\n",
       "      <td>1.0</td>\n",
       "      <td>5</td>\n",
       "      <td>0</td>\n",
       "      <td>49.0</td>\n",
       "      <td>0</td>\n",
       "    </tr>\n",
       "  </tbody>\n",
       "</table>\n",
       "<p>50684 rows × 13 columns</p>\n",
       "</div>"
      ],
      "text/plain": [
       "       employee_id         department     region         education gender  \\\n",
       "0            65438  Sales & Marketing   region_7  Master's & above      f   \n",
       "1            65141         Operations  region_22        Bachelor's      m   \n",
       "2             7513  Sales & Marketing  region_19        Bachelor's      m   \n",
       "3             2542  Sales & Marketing  region_23        Bachelor's      m   \n",
       "4            48945         Technology  region_26        Bachelor's      m   \n",
       "...            ...                ...        ...               ...    ...   \n",
       "54803         3030         Technology  region_14        Bachelor's      m   \n",
       "54804        74592         Operations  region_27  Master's & above      f   \n",
       "54805        13918          Analytics   region_1        Bachelor's      m   \n",
       "54806        13614  Sales & Marketing   region_9               NaN      m   \n",
       "54807        51526                 HR  region_22        Bachelor's      m   \n",
       "\n",
       "      recruitment_channel  no_of_trainings  age  previous_year_rating  \\\n",
       "0                sourcing                1   35                   5.0   \n",
       "1                   other                1   30                   5.0   \n",
       "2                sourcing                1   34                   3.0   \n",
       "3                   other                2   39                   1.0   \n",
       "4                   other                1   45                   3.0   \n",
       "...                   ...              ...  ...                   ...   \n",
       "54803            sourcing                1   48                   3.0   \n",
       "54804               other                1   37                   2.0   \n",
       "54805               other                1   27                   5.0   \n",
       "54806            sourcing                1   29                   1.0   \n",
       "54807               other                1   27                   1.0   \n",
       "\n",
       "       length_of_service  awards_won  avg_training_score  is_promoted  \n",
       "0                      8           0                49.0            0  \n",
       "1                      4           0                60.0            0  \n",
       "2                      7           0                50.0            0  \n",
       "3                     10           0                50.0            0  \n",
       "4                      2           0                73.0            0  \n",
       "...                  ...         ...                 ...          ...  \n",
       "54803                 17           0                78.0            0  \n",
       "54804                  6           0                56.0            0  \n",
       "54805                  3           0                79.0            0  \n",
       "54806                  2           0                 NaN            0  \n",
       "54807                  5           0                49.0            0  \n",
       "\n",
       "[50684 rows x 13 columns]"
      ]
     },
     "execution_count": 15,
     "metadata": {},
     "output_type": "execute_result"
    }
   ],
   "source": [
    "# Delete any duplicate rows if exist\n",
    "\n",
    "data = data.drop_duplicates()\n",
    "data"
   ]
  },
  {
   "cell_type": "code",
   "execution_count": 16,
   "id": "1a219d01",
   "metadata": {
    "execution": {
     "iopub.execute_input": "2025-01-28T18:08:51.174838Z",
     "iopub.status.busy": "2025-01-28T18:08:51.174128Z",
     "iopub.status.idle": "2025-01-28T18:08:51.193675Z",
     "shell.execute_reply": "2025-01-28T18:08:51.192874Z"
    },
    "papermill": {
     "duration": 0.038291,
     "end_time": "2025-01-28T18:08:51.196173",
     "exception": false,
     "start_time": "2025-01-28T18:08:51.157882",
     "status": "completed"
    },
    "tags": []
   },
   "outputs": [
    {
     "data": {
      "text/html": [
       "<div>\n",
       "<style scoped>\n",
       "    .dataframe tbody tr th:only-of-type {\n",
       "        vertical-align: middle;\n",
       "    }\n",
       "\n",
       "    .dataframe tbody tr th {\n",
       "        vertical-align: top;\n",
       "    }\n",
       "\n",
       "    .dataframe thead th {\n",
       "        text-align: right;\n",
       "    }\n",
       "</style>\n",
       "<table border=\"1\" class=\"dataframe\">\n",
       "  <thead>\n",
       "    <tr style=\"text-align: right;\">\n",
       "      <th></th>\n",
       "      <th>employee_id</th>\n",
       "      <th>department</th>\n",
       "      <th>region</th>\n",
       "      <th>education</th>\n",
       "      <th>gender</th>\n",
       "      <th>recruitment_channel</th>\n",
       "      <th>no_of_trainings</th>\n",
       "      <th>age</th>\n",
       "      <th>previous_year_rating</th>\n",
       "      <th>length_of_service</th>\n",
       "      <th>awards_won</th>\n",
       "      <th>avg_training_score</th>\n",
       "      <th>is_promoted</th>\n",
       "    </tr>\n",
       "  </thead>\n",
       "  <tbody>\n",
       "    <tr>\n",
       "      <th>21</th>\n",
       "      <td>33332</td>\n",
       "      <td>Operations</td>\n",
       "      <td>region_15</td>\n",
       "      <td>NaN</td>\n",
       "      <td>m</td>\n",
       "      <td>sourcing</td>\n",
       "      <td>1</td>\n",
       "      <td>41</td>\n",
       "      <td>4.0</td>\n",
       "      <td>11</td>\n",
       "      <td>0</td>\n",
       "      <td>57.0</td>\n",
       "      <td>0</td>\n",
       "    </tr>\n",
       "    <tr>\n",
       "      <th>32</th>\n",
       "      <td>35465</td>\n",
       "      <td>Sales &amp; Marketing</td>\n",
       "      <td>region_7</td>\n",
       "      <td>NaN</td>\n",
       "      <td>f</td>\n",
       "      <td>sourcing</td>\n",
       "      <td>1</td>\n",
       "      <td>24</td>\n",
       "      <td>1.0</td>\n",
       "      <td>2</td>\n",
       "      <td>0</td>\n",
       "      <td>48.0</td>\n",
       "      <td>0</td>\n",
       "    </tr>\n",
       "    <tr>\n",
       "      <th>43</th>\n",
       "      <td>17423</td>\n",
       "      <td>Sales &amp; Marketing</td>\n",
       "      <td>region_2</td>\n",
       "      <td>NaN</td>\n",
       "      <td>m</td>\n",
       "      <td>other</td>\n",
       "      <td>3</td>\n",
       "      <td>24</td>\n",
       "      <td>2.0</td>\n",
       "      <td>2</td>\n",
       "      <td>0</td>\n",
       "      <td>48.0</td>\n",
       "      <td>0</td>\n",
       "    </tr>\n",
       "    <tr>\n",
       "      <th>82</th>\n",
       "      <td>66013</td>\n",
       "      <td>Sales &amp; Marketing</td>\n",
       "      <td>region_2</td>\n",
       "      <td>NaN</td>\n",
       "      <td>m</td>\n",
       "      <td>sourcing</td>\n",
       "      <td>2</td>\n",
       "      <td>25</td>\n",
       "      <td>3.0</td>\n",
       "      <td>2</td>\n",
       "      <td>0</td>\n",
       "      <td>53.0</td>\n",
       "      <td>0</td>\n",
       "    </tr>\n",
       "    <tr>\n",
       "      <th>87</th>\n",
       "      <td>69094</td>\n",
       "      <td>Sales &amp; Marketing</td>\n",
       "      <td>region_2</td>\n",
       "      <td>NaN</td>\n",
       "      <td>m</td>\n",
       "      <td>sourcing</td>\n",
       "      <td>1</td>\n",
       "      <td>39</td>\n",
       "      <td>1.0</td>\n",
       "      <td>9</td>\n",
       "      <td>0</td>\n",
       "      <td>49.0</td>\n",
       "      <td>0</td>\n",
       "    </tr>\n",
       "    <tr>\n",
       "      <th>...</th>\n",
       "      <td>...</td>\n",
       "      <td>...</td>\n",
       "      <td>...</td>\n",
       "      <td>...</td>\n",
       "      <td>...</td>\n",
       "      <td>...</td>\n",
       "      <td>...</td>\n",
       "      <td>...</td>\n",
       "      <td>...</td>\n",
       "      <td>...</td>\n",
       "      <td>...</td>\n",
       "      <td>...</td>\n",
       "      <td>...</td>\n",
       "    </tr>\n",
       "    <tr>\n",
       "      <th>54692</th>\n",
       "      <td>14821</td>\n",
       "      <td>Sales &amp; Marketing</td>\n",
       "      <td>region_2</td>\n",
       "      <td>NaN</td>\n",
       "      <td>f</td>\n",
       "      <td>sourcing</td>\n",
       "      <td>1</td>\n",
       "      <td>35</td>\n",
       "      <td>3.0</td>\n",
       "      <td>7</td>\n",
       "      <td>0</td>\n",
       "      <td>53.0</td>\n",
       "      <td>0</td>\n",
       "    </tr>\n",
       "    <tr>\n",
       "      <th>54717</th>\n",
       "      <td>7684</td>\n",
       "      <td>Analytics</td>\n",
       "      <td>region_2</td>\n",
       "      <td>NaN</td>\n",
       "      <td>m</td>\n",
       "      <td>sourcing</td>\n",
       "      <td>1</td>\n",
       "      <td>32</td>\n",
       "      <td>3.0</td>\n",
       "      <td>4</td>\n",
       "      <td>0</td>\n",
       "      <td>86.0</td>\n",
       "      <td>0</td>\n",
       "    </tr>\n",
       "    <tr>\n",
       "      <th>54729</th>\n",
       "      <td>1797</td>\n",
       "      <td>HR</td>\n",
       "      <td>region_2</td>\n",
       "      <td>NaN</td>\n",
       "      <td>f</td>\n",
       "      <td>other</td>\n",
       "      <td>1</td>\n",
       "      <td>28</td>\n",
       "      <td>3.0</td>\n",
       "      <td>2</td>\n",
       "      <td>0</td>\n",
       "      <td>53.0</td>\n",
       "      <td>0</td>\n",
       "    </tr>\n",
       "    <tr>\n",
       "      <th>54742</th>\n",
       "      <td>38935</td>\n",
       "      <td>Sales &amp; Marketing</td>\n",
       "      <td>region_31</td>\n",
       "      <td>NaN</td>\n",
       "      <td>m</td>\n",
       "      <td>other</td>\n",
       "      <td>1</td>\n",
       "      <td>28</td>\n",
       "      <td>4.0</td>\n",
       "      <td>3</td>\n",
       "      <td>0</td>\n",
       "      <td>47.0</td>\n",
       "      <td>0</td>\n",
       "    </tr>\n",
       "    <tr>\n",
       "      <th>54806</th>\n",
       "      <td>13614</td>\n",
       "      <td>Sales &amp; Marketing</td>\n",
       "      <td>region_9</td>\n",
       "      <td>NaN</td>\n",
       "      <td>m</td>\n",
       "      <td>sourcing</td>\n",
       "      <td>1</td>\n",
       "      <td>29</td>\n",
       "      <td>1.0</td>\n",
       "      <td>2</td>\n",
       "      <td>0</td>\n",
       "      <td>NaN</td>\n",
       "      <td>0</td>\n",
       "    </tr>\n",
       "  </tbody>\n",
       "</table>\n",
       "<p>2024 rows × 13 columns</p>\n",
       "</div>"
      ],
      "text/plain": [
       "       employee_id         department     region education gender  \\\n",
       "21           33332         Operations  region_15       NaN      m   \n",
       "32           35465  Sales & Marketing   region_7       NaN      f   \n",
       "43           17423  Sales & Marketing   region_2       NaN      m   \n",
       "82           66013  Sales & Marketing   region_2       NaN      m   \n",
       "87           69094  Sales & Marketing   region_2       NaN      m   \n",
       "...            ...                ...        ...       ...    ...   \n",
       "54692        14821  Sales & Marketing   region_2       NaN      f   \n",
       "54717         7684          Analytics   region_2       NaN      m   \n",
       "54729         1797                 HR   region_2       NaN      f   \n",
       "54742        38935  Sales & Marketing  region_31       NaN      m   \n",
       "54806        13614  Sales & Marketing   region_9       NaN      m   \n",
       "\n",
       "      recruitment_channel  no_of_trainings  age  previous_year_rating  \\\n",
       "21               sourcing                1   41                   4.0   \n",
       "32               sourcing                1   24                   1.0   \n",
       "43                  other                3   24                   2.0   \n",
       "82               sourcing                2   25                   3.0   \n",
       "87               sourcing                1   39                   1.0   \n",
       "...                   ...              ...  ...                   ...   \n",
       "54692            sourcing                1   35                   3.0   \n",
       "54717            sourcing                1   32                   3.0   \n",
       "54729               other                1   28                   3.0   \n",
       "54742               other                1   28                   4.0   \n",
       "54806            sourcing                1   29                   1.0   \n",
       "\n",
       "       length_of_service  awards_won  avg_training_score  is_promoted  \n",
       "21                    11           0                57.0            0  \n",
       "32                     2           0                48.0            0  \n",
       "43                     2           0                48.0            0  \n",
       "82                     2           0                53.0            0  \n",
       "87                     9           0                49.0            0  \n",
       "...                  ...         ...                 ...          ...  \n",
       "54692                  7           0                53.0            0  \n",
       "54717                  4           0                86.0            0  \n",
       "54729                  2           0                53.0            0  \n",
       "54742                  3           0                47.0            0  \n",
       "54806                  2           0                 NaN            0  \n",
       "\n",
       "[2024 rows x 13 columns]"
      ]
     },
     "execution_count": 16,
     "metadata": {},
     "output_type": "execute_result"
    }
   ],
   "source": [
    "data[data['education'].isnull()]"
   ]
  },
  {
   "cell_type": "code",
   "execution_count": 17,
   "id": "f4b85f8e",
   "metadata": {
    "execution": {
     "iopub.execute_input": "2025-01-28T18:08:51.230600Z",
     "iopub.status.busy": "2025-01-28T18:08:51.229774Z",
     "iopub.status.idle": "2025-01-28T18:08:51.242166Z",
     "shell.execute_reply": "2025-01-28T18:08:51.241195Z"
    },
    "papermill": {
     "duration": 0.031205,
     "end_time": "2025-01-28T18:08:51.244454",
     "exception": false,
     "start_time": "2025-01-28T18:08:51.213249",
     "status": "completed"
    },
    "tags": []
   },
   "outputs": [
    {
     "name": "stderr",
     "output_type": "stream",
     "text": [
      "/tmp/ipykernel_23/2188245210.py:11: FutureWarning: A value is trying to be set on a copy of a DataFrame or Series through chained assignment using an inplace method.\n",
      "The behavior will change in pandas 3.0. This inplace method will never work because the intermediate object on which we are setting values always behaves as a copy.\n",
      "\n",
      "For example, when doing 'df[col].method(value, inplace=True)', try using 'df.method({col: value}, inplace=True)' or df[col] = df[col].method(value) instead, to perform the operation inplace on the original object.\n",
      "\n",
      "\n",
      "  data['education'].fillna(education_mode, inplace = True)\n"
     ]
    }
   ],
   "source": [
    "# Fill 'education' column with the most common value \n",
    "\"\"\"\n",
    "1) use mode() with catogerical datatypes\n",
    "2) fillna() can not accebt obj -just deals with int/str- -> join() the obj\n",
    "3) Replace NaN using fillna()\n",
    " \n",
    "\"\"\"\n",
    "\n",
    "education_mode = ''.join(data['education'].mode()) #convert to str (it was obj))\n",
    "\n",
    "data['education'].fillna(education_mode, inplace = True)"
   ]
  },
  {
   "cell_type": "code",
   "execution_count": null,
   "id": "114a735e",
   "metadata": {
    "execution": {
     "iopub.execute_input": "2025-01-28T18:08:51.278707Z",
     "iopub.status.busy": "2025-01-28T18:08:51.278350Z",
     "iopub.status.idle": "2025-01-28T18:08:51.286346Z",
     "shell.execute_reply": "2025-01-28T18:08:51.285243Z"
    },
    "papermill": {
     "duration": 0.026687,
     "end_time": "2025-01-28T18:08:51.288326",
     "exception": false,
     "start_time": "2025-01-28T18:08:51.261639",
     "status": "completed"
    },
    "tags": []
   },
   "outputs": [
    {
     "name": "stderr",
     "output_type": "stream",
     "text": [
      "/tmp/ipykernel_23/460709364.py:11: FutureWarning: A value is trying to be set on a copy of a DataFrame or Series through chained assignment using an inplace method.\n",
      "The behavior will change in pandas 3.0. This inplace method will never work because the intermediate object on which we are setting values always behaves as a copy.\n",
      "\n",
      "For example, when doing 'df[col].method(value, inplace=True)', try using 'df.method({col: value}, inplace=True)' or df[col] = df[col].method(value) instead, to perform the operation inplace on the original object.\n",
      "\n",
      "\n",
      "  data['avg_training_score'].fillna(avg_train_median, inplace = True)\n"
     ]
    }
   ],
   "source": [
    "# Fill 'avg_training_score' column with median\n",
    "\"\"\"\n",
    "1) use median() with numirecal datatypes\n",
    "2) Replace NaN using fillna()\n",
    "\n",
    "\"\"\"\n",
    "\n",
    "avg_train_median = data['avg_training_score'].median()\n",
    "\n",
    "data['avg_training_score'].fillna(avg_train_median, inplace = True)"
   ]
  },
  {
   "cell_type": "markdown",
   "id": "f24ebeee",
   "metadata": {
    "papermill": {
     "duration": 0.015414,
     "end_time": "2025-01-28T18:08:51.320288",
     "exception": false,
     "start_time": "2025-01-28T18:08:51.304874",
     "status": "completed"
    },
    "tags": []
   },
   "source": [
    "**Check the mean of NaN after dealing with it**"
   ]
  },
  {
   "cell_type": "code",
   "execution_count": 19,
   "id": "e099def7",
   "metadata": {
    "execution": {
     "iopub.execute_input": "2025-01-28T18:08:51.352624Z",
     "iopub.status.busy": "2025-01-28T18:08:51.352296Z",
     "iopub.status.idle": "2025-01-28T18:08:51.373892Z",
     "shell.execute_reply": "2025-01-28T18:08:51.372955Z"
    },
    "papermill": {
     "duration": 0.040487,
     "end_time": "2025-01-28T18:08:51.376088",
     "exception": false,
     "start_time": "2025-01-28T18:08:51.335601",
     "status": "completed"
    },
    "tags": []
   },
   "outputs": [
    {
     "data": {
      "text/plain": [
       "employee_id             0.0\n",
       "department              0.0\n",
       "region                  0.0\n",
       "education               0.0\n",
       "gender                  0.0\n",
       "recruitment_channel     0.0\n",
       "no_of_trainings         0.0\n",
       "age                     0.0\n",
       "previous_year_rating    0.0\n",
       "length_of_service       0.0\n",
       "awards_won              0.0\n",
       "avg_training_score      0.0\n",
       "is_promoted             0.0\n",
       "dtype: float64"
      ]
     },
     "execution_count": 19,
     "metadata": {},
     "output_type": "execute_result"
    }
   ],
   "source": [
    "data.isnull().mean()"
   ]
  },
  {
   "cell_type": "markdown",
   "id": "01c6313f",
   "metadata": {
    "papermill": {
     "duration": 0.015452,
     "end_time": "2025-01-28T18:08:51.409337",
     "exception": false,
     "start_time": "2025-01-28T18:08:51.393885",
     "status": "completed"
    },
    "tags": []
   },
   "source": [
    "# Detect and Remove Outliers "
   ]
  },
  {
   "cell_type": "code",
   "execution_count": 20,
   "id": "93d50d6f",
   "metadata": {
    "execution": {
     "iopub.execute_input": "2025-01-28T18:08:51.442688Z",
     "iopub.status.busy": "2025-01-28T18:08:51.442362Z",
     "iopub.status.idle": "2025-01-28T18:08:51.448759Z",
     "shell.execute_reply": "2025-01-28T18:08:51.447663Z"
    },
    "papermill": {
     "duration": 0.025527,
     "end_time": "2025-01-28T18:08:51.450730",
     "exception": false,
     "start_time": "2025-01-28T18:08:51.425203",
     "status": "completed"
    },
    "tags": []
   },
   "outputs": [
    {
     "name": "stdout",
     "output_type": "stream",
     "text": [
      "Index(['employee_id', 'no_of_trainings', 'age', 'previous_year_rating',\n",
      "       'length_of_service', 'awards_won', 'avg_training_score', 'is_promoted'],\n",
      "      dtype='object')\n"
     ]
    }
   ],
   "source": [
    "numeric_columns = data.select_dtypes(include=['float64', 'int64']).columns\n",
    "print(numeric_columns)\n"
   ]
  },
  {
   "cell_type": "code",
   "execution_count": 21,
   "id": "3e4cbaaf",
   "metadata": {
    "execution": {
     "iopub.execute_input": "2025-01-28T18:08:51.484091Z",
     "iopub.status.busy": "2025-01-28T18:08:51.483708Z",
     "iopub.status.idle": "2025-01-28T18:08:51.522398Z",
     "shell.execute_reply": "2025-01-28T18:08:51.521583Z"
    },
    "papermill": {
     "duration": 0.058003,
     "end_time": "2025-01-28T18:08:51.524597",
     "exception": false,
     "start_time": "2025-01-28T18:08:51.466594",
     "status": "completed"
    },
    "tags": []
   },
   "outputs": [],
   "source": [
    "# Remove outliers using 1.5*IQR\n",
    "numerical_columns = [\n",
    "    \"no_of_trainings\",\n",
    "    \"age\",\n",
    "    \"previous_year_rating\",\n",
    "    \"length_of_service\",\n",
    "    \"avg_training_score\",\n",
    "]\n",
    "\n",
    "def remove_outliers_iqr(df, columns):\n",
    "    cleaned_df = df.copy()\n",
    "    for col in columns:\n",
    "        if col in df.columns:\n",
    "            Q1 = df[col].quantile(0.25)\n",
    "            Q3 = df[col].quantile(0.75)\n",
    "            IQR = Q3 - Q1\n",
    "            lower_bound = Q1 - 1.5 * IQR\n",
    "            upper_bound = Q3 + 1.5 * IQR\n",
    "            cleaned_df = cleaned_df[(cleaned_df[col] >= lower_bound) & (cleaned_df[col] <= upper_bound)]\n",
    "    return cleaned_df\n",
    "\n",
    "# Apply outlier removal\n",
    "data_cleaned = remove_outliers_iqr(data, numerical_columns)\n"
   ]
  },
  {
   "cell_type": "code",
   "execution_count": 22,
   "id": "84eb0fc1",
   "metadata": {
    "execution": {
     "iopub.execute_input": "2025-01-28T18:08:51.558683Z",
     "iopub.status.busy": "2025-01-28T18:08:51.557805Z",
     "iopub.status.idle": "2025-01-28T18:08:57.259352Z",
     "shell.execute_reply": "2025-01-28T18:08:57.258354Z"
    },
    "papermill": {
     "duration": 5.720735,
     "end_time": "2025-01-28T18:08:57.261509",
     "exception": false,
     "start_time": "2025-01-28T18:08:51.540774",
     "status": "completed"
    },
    "tags": []
   },
   "outputs": [
    {
     "name": "stderr",
     "output_type": "stream",
     "text": [
      "/opt/conda/lib/python3.10/site-packages/seaborn/_oldcore.py:1119: FutureWarning: use_inf_as_na option is deprecated and will be removed in a future version. Convert inf values to NaN before operating instead.\n",
      "  with pd.option_context('mode.use_inf_as_na', True):\n",
      "/opt/conda/lib/python3.10/site-packages/seaborn/_oldcore.py:1119: FutureWarning: use_inf_as_na option is deprecated and will be removed in a future version. Convert inf values to NaN before operating instead.\n",
      "  with pd.option_context('mode.use_inf_as_na', True):\n"
     ]
    },
    {
     "data": {
      "image/png": "[encoded data removed]",
      "text/plain": [
       "<Figure size 1200x600 with 2 Axes>"
      ]
     },
     "metadata": {},
     "output_type": "display_data"
    },
    {
     "name": "stderr",
     "output_type": "stream",
     "text": [
      "/opt/conda/lib/python3.10/site-packages/seaborn/_oldcore.py:1119: FutureWarning: use_inf_as_na option is deprecated and will be removed in a future version. Convert inf values to NaN before operating instead.\n",
      "  with pd.option_context('mode.use_inf_as_na', True):\n",
      "/opt/conda/lib/python3.10/site-packages/seaborn/_oldcore.py:1119: FutureWarning: use_inf_as_na option is deprecated and will be removed in a future version. Convert inf values to NaN before operating instead.\n",
      "  with pd.option_context('mode.use_inf_as_na', True):\n"
     ]
    },
    {
     "data": {
      "image/png": "[encoded data removed]",
      "text/plain": [
       "<Figure size 1200x600 with 2 Axes>"
      ]
     },
     "metadata": {},
     "output_type": "display_data"
    },
    {
     "name": "stderr",
     "output_type": "stream",
     "text": [
      "/opt/conda/lib/python3.10/site-packages/seaborn/_oldcore.py:1119: FutureWarning: use_inf_as_na option is deprecated and will be removed in a future version. Convert inf values to NaN before operating instead.\n",
      "  with pd.option_context('mode.use_inf_as_na', True):\n",
      "/opt/conda/lib/python3.10/site-packages/seaborn/_oldcore.py:1119: FutureWarning: use_inf_as_na option is deprecated and will be removed in a future version. Convert inf values to NaN before operating instead.\n",
      "  with pd.option_context('mode.use_inf_as_na', True):\n"
     ]
    },
    {
     "data": {
      "image/png": "[encoded data removed]",
      "text/plain": [
       "<Figure size 1200x600 with 2 Axes>"
      ]
     },
     "metadata": {},
     "output_type": "display_data"
    },
    {
     "name": "stderr",
     "output_type": "stream",
     "text": [
      "/opt/conda/lib/python3.10/site-packages/seaborn/_oldcore.py:1119: FutureWarning: use_inf_as_na option is deprecated and will be removed in a future version. Convert inf values to NaN before operating instead.\n",
      "  with pd.option_context('mode.use_inf_as_na', True):\n",
      "/opt/conda/lib/python3.10/site-packages/seaborn/_oldcore.py:1119: FutureWarning: use_inf_as_na option is deprecated and will be removed in a future version. Convert inf values to NaN before operating instead.\n",
      "  with pd.option_context('mode.use_inf_as_na', True):\n"
     ]
    },
    {
     "data": {
      "image/png": "[encoded data removed]",
      "text/plain": [
       "<Figure size 1200x600 with 2 Axes>"
      ]
     },
     "metadata": {},
     "output_type": "display_data"
    },
    {
     "name": "stderr",
     "output_type": "stream",
     "text": [
      "/opt/conda/lib/python3.10/site-packages/seaborn/_oldcore.py:1119: FutureWarning: use_inf_as_na option is deprecated and will be removed in a future version. Convert inf values to NaN before operating instead.\n",
      "  with pd.option_context('mode.use_inf_as_na', True):\n",
      "/opt/conda/lib/python3.10/site-packages/seaborn/_oldcore.py:1119: FutureWarning: use_inf_as_na option is deprecated and will be removed in a future version. Convert inf values to NaN before operating instead.\n",
      "  with pd.option_context('mode.use_inf_as_na', True):\n"
     ]
    },
    {
     "data": {
      "image/png": "[encoded data removed]",
      "text/plain": [
       "<Figure size 1200x600 with 2 Axes>"
      ]
     },
     "metadata": {},
     "output_type": "display_data"
    }
   ],
   "source": [
    "# Visualize distributions of numerical columns before and after outlier removal\n",
    "for col in numerical_columns:\n",
    "    fig, axes = plt.subplots(1, 2, figsize=(12, 6), sharey=True)\n",
    "    \n",
    "    # Before outlier removal\n",
    "    sns.histplot(data[col], kde=True, ax=axes[0])\n",
    "    axes[0].set_title(f'Distribution of {col} Before Outlier Removal')\n",
    "    \n",
    "    # After outlier removal\n",
    "    sns.histplot(data_cleaned[col], kde=True, ax=axes[1])\n",
    "    axes[1].set_title(f'Distribution of {col} After Outlier Removal')\n",
    "    \n",
    "    plt.tight_layout()\n",
    "    plt.show()"
   ]
  },
  {
   "cell_type": "markdown",
   "id": "2a9517a8",
   "metadata": {
    "papermill": {
     "duration": 0.020007,
     "end_time": "2025-01-28T18:08:57.303519",
     "exception": false,
     "start_time": "2025-01-28T18:08:57.283512",
     "status": "completed"
    },
    "tags": []
   },
   "source": [
    "# Conver Categorical Columns To Numarical"
   ]
  },
  {
   "cell_type": "markdown",
   "id": "da9901d8",
   "metadata": {
    "papermill": {
     "duration": 0.065994,
     "end_time": "2025-01-28T18:08:57.389810",
     "exception": false,
     "start_time": "2025-01-28T18:08:57.323816",
     "status": "completed"
    },
    "tags": []
   },
   "source": [
    "**Create a new copy of the data cleanded**"
   ]
  },
  {
   "cell_type": "code",
   "execution_count": 23,
   "id": "2a5fed14",
   "metadata": {
    "execution": {
     "iopub.execute_input": "2025-01-28T18:08:57.432543Z",
     "iopub.status.busy": "2025-01-28T18:08:57.431867Z",
     "iopub.status.idle": "2025-01-28T18:08:57.436562Z",
     "shell.execute_reply": "2025-01-28T18:08:57.435613Z"
    },
    "papermill": {
     "duration": 0.028209,
     "end_time": "2025-01-28T18:08:57.438510",
     "exception": false,
     "start_time": "2025-01-28T18:08:57.410301",
     "status": "completed"
    },
    "tags": []
   },
   "outputs": [],
   "source": [
    "data_encoding = pd.DataFrame(data)"
   ]
  },
  {
   "cell_type": "markdown",
   "id": "64c7965f",
   "metadata": {
    "papermill": {
     "duration": 0.020595,
     "end_time": "2025-01-28T18:08:57.765218",
     "exception": false,
     "start_time": "2025-01-28T18:08:57.744623",
     "status": "completed"
    },
    "tags": []
   },
   "source": [
    "**1. Convet gender column**"
   ]
  },
  {
   "cell_type": "code",
   "execution_count": 25,
   "id": "06f9f715",
   "metadata": {
    "execution": {
     "iopub.execute_input": "2025-01-28T18:08:57.808239Z",
     "iopub.status.busy": "2025-01-28T18:08:57.807829Z",
     "iopub.status.idle": "2025-01-28T18:08:57.848329Z",
     "shell.execute_reply": "2025-01-28T18:08:57.847121Z"
    },
    "papermill": {
     "duration": 0.064521,
     "end_time": "2025-01-28T18:08:57.850289",
     "exception": false,
     "start_time": "2025-01-28T18:08:57.785768",
     "status": "completed"
    },
    "tags": []
   },
   "outputs": [
    {
     "name": "stderr",
     "output_type": "stream",
     "text": [
      "/tmp/ipykernel_23/1957309678.py:8: FutureWarning: Downcasting behavior in `replace` is deprecated and will be removed in a future version. To retain the old behavior, explicitly call `result.infer_objects(copy=False)`. To opt-in to the future behavior, set `pd.set_option('future.no_silent_downcasting', True)`\n",
      "  data_encoding = data_encoding.replace(convert) #replace the values in the dataset\n"
     ]
    },
    {
     "data": {
      "text/html": [
       "<div>\n",
       "<style scoped>\n",
       "    .dataframe tbody tr th:only-of-type {\n",
       "        vertical-align: middle;\n",
       "    }\n",
       "\n",
       "    .dataframe tbody tr th {\n",
       "        vertical-align: top;\n",
       "    }\n",
       "\n",
       "    .dataframe thead th {\n",
       "        text-align: right;\n",
       "    }\n",
       "</style>\n",
       "<table border=\"1\" class=\"dataframe\">\n",
       "  <thead>\n",
       "    <tr style=\"text-align: right;\">\n",
       "      <th></th>\n",
       "      <th>employee_id</th>\n",
       "      <th>department</th>\n",
       "      <th>region</th>\n",
       "      <th>education</th>\n",
       "      <th>gender</th>\n",
       "      <th>recruitment_channel</th>\n",
       "      <th>no_of_trainings</th>\n",
       "      <th>age</th>\n",
       "      <th>previous_year_rating</th>\n",
       "      <th>length_of_service</th>\n",
       "      <th>awards_won</th>\n",
       "      <th>avg_training_score</th>\n",
       "      <th>is_promoted</th>\n",
       "    </tr>\n",
       "  </thead>\n",
       "  <tbody>\n",
       "    <tr>\n",
       "      <th>0</th>\n",
       "      <td>65438</td>\n",
       "      <td>Sales &amp; Marketing</td>\n",
       "      <td>region_7</td>\n",
       "      <td>Master's &amp; above</td>\n",
       "      <td>1</td>\n",
       "      <td>sourcing</td>\n",
       "      <td>1</td>\n",
       "      <td>35</td>\n",
       "      <td>5.0</td>\n",
       "      <td>8</td>\n",
       "      <td>0</td>\n",
       "      <td>49.0</td>\n",
       "      <td>0</td>\n",
       "    </tr>\n",
       "    <tr>\n",
       "      <th>1</th>\n",
       "      <td>65141</td>\n",
       "      <td>Operations</td>\n",
       "      <td>region_22</td>\n",
       "      <td>Bachelor's</td>\n",
       "      <td>0</td>\n",
       "      <td>other</td>\n",
       "      <td>1</td>\n",
       "      <td>30</td>\n",
       "      <td>5.0</td>\n",
       "      <td>4</td>\n",
       "      <td>0</td>\n",
       "      <td>60.0</td>\n",
       "      <td>0</td>\n",
       "    </tr>\n",
       "    <tr>\n",
       "      <th>2</th>\n",
       "      <td>7513</td>\n",
       "      <td>Sales &amp; Marketing</td>\n",
       "      <td>region_19</td>\n",
       "      <td>Bachelor's</td>\n",
       "      <td>0</td>\n",
       "      <td>sourcing</td>\n",
       "      <td>1</td>\n",
       "      <td>34</td>\n",
       "      <td>3.0</td>\n",
       "      <td>7</td>\n",
       "      <td>0</td>\n",
       "      <td>50.0</td>\n",
       "      <td>0</td>\n",
       "    </tr>\n",
       "    <tr>\n",
       "      <th>3</th>\n",
       "      <td>2542</td>\n",
       "      <td>Sales &amp; Marketing</td>\n",
       "      <td>region_23</td>\n",
       "      <td>Bachelor's</td>\n",
       "      <td>0</td>\n",
       "      <td>other</td>\n",
       "      <td>2</td>\n",
       "      <td>39</td>\n",
       "      <td>1.0</td>\n",
       "      <td>10</td>\n",
       "      <td>0</td>\n",
       "      <td>50.0</td>\n",
       "      <td>0</td>\n",
       "    </tr>\n",
       "    <tr>\n",
       "      <th>4</th>\n",
       "      <td>48945</td>\n",
       "      <td>Technology</td>\n",
       "      <td>region_26</td>\n",
       "      <td>Bachelor's</td>\n",
       "      <td>0</td>\n",
       "      <td>other</td>\n",
       "      <td>1</td>\n",
       "      <td>45</td>\n",
       "      <td>3.0</td>\n",
       "      <td>2</td>\n",
       "      <td>0</td>\n",
       "      <td>73.0</td>\n",
       "      <td>0</td>\n",
       "    </tr>\n",
       "    <tr>\n",
       "      <th>...</th>\n",
       "      <td>...</td>\n",
       "      <td>...</td>\n",
       "      <td>...</td>\n",
       "      <td>...</td>\n",
       "      <td>...</td>\n",
       "      <td>...</td>\n",
       "      <td>...</td>\n",
       "      <td>...</td>\n",
       "      <td>...</td>\n",
       "      <td>...</td>\n",
       "      <td>...</td>\n",
       "      <td>...</td>\n",
       "      <td>...</td>\n",
       "    </tr>\n",
       "    <tr>\n",
       "      <th>54803</th>\n",
       "      <td>3030</td>\n",
       "      <td>Technology</td>\n",
       "      <td>region_14</td>\n",
       "      <td>Bachelor's</td>\n",
       "      <td>0</td>\n",
       "      <td>sourcing</td>\n",
       "      <td>1</td>\n",
       "      <td>48</td>\n",
       "      <td>3.0</td>\n",
       "      <td>17</td>\n",
       "      <td>0</td>\n",
       "      <td>78.0</td>\n",
       "      <td>0</td>\n",
       "    </tr>\n",
       "    <tr>\n",
       "      <th>54804</th>\n",
       "      <td>74592</td>\n",
       "      <td>Operations</td>\n",
       "      <td>region_27</td>\n",
       "      <td>Master's &amp; above</td>\n",
       "      <td>1</td>\n",
       "      <td>other</td>\n",
       "      <td>1</td>\n",
       "      <td>37</td>\n",
       "      <td>2.0</td>\n",
       "      <td>6</td>\n",
       "      <td>0</td>\n",
       "      <td>56.0</td>\n",
       "      <td>0</td>\n",
       "    </tr>\n",
       "    <tr>\n",
       "      <th>54805</th>\n",
       "      <td>13918</td>\n",
       "      <td>Analytics</td>\n",
       "      <td>region_1</td>\n",
       "      <td>Bachelor's</td>\n",
       "      <td>0</td>\n",
       "      <td>other</td>\n",
       "      <td>1</td>\n",
       "      <td>27</td>\n",
       "      <td>5.0</td>\n",
       "      <td>3</td>\n",
       "      <td>0</td>\n",
       "      <td>79.0</td>\n",
       "      <td>0</td>\n",
       "    </tr>\n",
       "    <tr>\n",
       "      <th>54806</th>\n",
       "      <td>13614</td>\n",
       "      <td>Sales &amp; Marketing</td>\n",
       "      <td>region_9</td>\n",
       "      <td>Bachelor's</td>\n",
       "      <td>0</td>\n",
       "      <td>sourcing</td>\n",
       "      <td>1</td>\n",
       "      <td>29</td>\n",
       "      <td>1.0</td>\n",
       "      <td>2</td>\n",
       "      <td>0</td>\n",
       "      <td>60.0</td>\n",
       "      <td>0</td>\n",
       "    </tr>\n",
       "    <tr>\n",
       "      <th>54807</th>\n",
       "      <td>51526</td>\n",
       "      <td>HR</td>\n",
       "      <td>region_22</td>\n",
       "      <td>Bachelor's</td>\n",
       "      <td>0</td>\n",
       "      <td>other</td>\n",
       "      <td>1</td>\n",
       "      <td>27</td>\n",
       "      <td>1.0</td>\n",
       "      <td>5</td>\n",
       "      <td>0</td>\n",
       "      <td>49.0</td>\n",
       "      <td>0</td>\n",
       "    </tr>\n",
       "  </tbody>\n",
       "</table>\n",
       "<p>50684 rows × 13 columns</p>\n",
       "</div>"
      ],
      "text/plain": [
       "       employee_id         department     region         education  gender  \\\n",
       "0            65438  Sales & Marketing   region_7  Master's & above       1   \n",
       "1            65141         Operations  region_22        Bachelor's       0   \n",
       "2             7513  Sales & Marketing  region_19        Bachelor's       0   \n",
       "3             2542  Sales & Marketing  region_23        Bachelor's       0   \n",
       "4            48945         Technology  region_26        Bachelor's       0   \n",
       "...            ...                ...        ...               ...     ...   \n",
       "54803         3030         Technology  region_14        Bachelor's       0   \n",
       "54804        74592         Operations  region_27  Master's & above       1   \n",
       "54805        13918          Analytics   region_1        Bachelor's       0   \n",
       "54806        13614  Sales & Marketing   region_9        Bachelor's       0   \n",
       "54807        51526                 HR  region_22        Bachelor's       0   \n",
       "\n",
       "      recruitment_channel  no_of_trainings  age  previous_year_rating  \\\n",
       "0                sourcing                1   35                   5.0   \n",
       "1                   other                1   30                   5.0   \n",
       "2                sourcing                1   34                   3.0   \n",
       "3                   other                2   39                   1.0   \n",
       "4                   other                1   45                   3.0   \n",
       "...                   ...              ...  ...                   ...   \n",
       "54803            sourcing                1   48                   3.0   \n",
       "54804               other                1   37                   2.0   \n",
       "54805               other                1   27                   5.0   \n",
       "54806            sourcing                1   29                   1.0   \n",
       "54807               other                1   27                   1.0   \n",
       "\n",
       "       length_of_service  awards_won  avg_training_score  is_promoted  \n",
       "0                      8           0                49.0            0  \n",
       "1                      4           0                60.0            0  \n",
       "2                      7           0                50.0            0  \n",
       "3                     10           0                50.0            0  \n",
       "4                      2           0                73.0            0  \n",
       "...                  ...         ...                 ...          ...  \n",
       "54803                 17           0                78.0            0  \n",
       "54804                  6           0                56.0            0  \n",
       "54805                  3           0                79.0            0  \n",
       "54806                  2           0                60.0            0  \n",
       "54807                  5           0                49.0            0  \n",
       "\n",
       "[50684 rows x 13 columns]"
      ]
     },
     "execution_count": 25,
     "metadata": {},
     "output_type": "execute_result"
    }
   ],
   "source": [
    " #convert the gender column to numaric value \n",
    "\n",
    "\"\"\"\n",
    " 0 --> m\n",
    " 1 --> f\n",
    "\"\"\"\n",
    "convert = {\"gender\": {\"m\": 0, \"f\": 1}}#convert \"Female\" to 1 and \"Male\" to 0\n",
    "data_encoding = data_encoding.replace(convert) #replace the values in the dataset\n",
    "data_encoding #display the dataSet after change"
   ]
  },
  {
   "cell_type": "markdown",
   "id": "6bfb910e",
   "metadata": {
    "papermill": {
     "duration": 0.020835,
     "end_time": "2025-01-28T18:08:57.892451",
     "exception": false,
     "start_time": "2025-01-28T18:08:57.871616",
     "status": "completed"
    },
    "tags": []
   },
   "source": [
    "**Check the type of gender column**"
   ]
  },
  {
   "cell_type": "code",
   "execution_count": 26,
   "id": "bfeea780",
   "metadata": {
    "execution": {
     "iopub.execute_input": "2025-01-28T18:08:57.937064Z",
     "iopub.status.busy": "2025-01-28T18:08:57.936651Z",
     "iopub.status.idle": "2025-01-28T18:08:57.943030Z",
     "shell.execute_reply": "2025-01-28T18:08:57.942107Z"
    },
    "papermill": {
     "duration": 0.030804,
     "end_time": "2025-01-28T18:08:57.944877",
     "exception": false,
     "start_time": "2025-01-28T18:08:57.914073",
     "status": "completed"
    },
    "tags": []
   },
   "outputs": [
    {
     "data": {
      "text/plain": [
       "dtype('int64')"
      ]
     },
     "execution_count": 26,
     "metadata": {},
     "output_type": "execute_result"
    }
   ],
   "source": [
    "data_encoding[\"gender\"].dtypes"
   ]
  },
  {
   "cell_type": "markdown",
   "id": "e90bf575",
   "metadata": {
    "papermill": {
     "duration": 0.021844,
     "end_time": "2025-01-28T18:08:57.987742",
     "exception": false,
     "start_time": "2025-01-28T18:08:57.965898",
     "status": "completed"
    },
    "tags": []
   },
   "source": [
    "**2. Convet department column**"
   ]
  },
  {
   "cell_type": "code",
   "execution_count": 27,
   "id": "be69ecce",
   "metadata": {
    "execution": {
     "iopub.execute_input": "2025-01-28T18:08:58.032018Z",
     "iopub.status.busy": "2025-01-28T18:08:58.031379Z",
     "iopub.status.idle": "2025-01-28T18:08:58.092821Z",
     "shell.execute_reply": "2025-01-28T18:08:58.091659Z"
    },
    "papermill": {
     "duration": 0.086035,
     "end_time": "2025-01-28T18:08:58.094986",
     "exception": false,
     "start_time": "2025-01-28T18:08:58.008951",
     "status": "completed"
    },
    "tags": []
   },
   "outputs": [
    {
     "name": "stderr",
     "output_type": "stream",
     "text": [
      "/tmp/ipykernel_23/1534938552.py:17: FutureWarning: Downcasting behavior in `replace` is deprecated and will be removed in a future version. To retain the old behavior, explicitly call `result.infer_objects(copy=False)`. To opt-in to the future behavior, set `pd.set_option('future.no_silent_downcasting', True)`\n",
      "  data_encoding = data_encoding.replace(convert) #replace the values in the dataset\n"
     ]
    },
    {
     "data": {
      "text/html": [
       "<div>\n",
       "<style scoped>\n",
       "    .dataframe tbody tr th:only-of-type {\n",
       "        vertical-align: middle;\n",
       "    }\n",
       "\n",
       "    .dataframe tbody tr th {\n",
       "        vertical-align: top;\n",
       "    }\n",
       "\n",
       "    .dataframe thead th {\n",
       "        text-align: right;\n",
       "    }\n",
       "</style>\n",
       "<table border=\"1\" class=\"dataframe\">\n",
       "  <thead>\n",
       "    <tr style=\"text-align: right;\">\n",
       "      <th></th>\n",
       "      <th>employee_id</th>\n",
       "      <th>department</th>\n",
       "      <th>region</th>\n",
       "      <th>education</th>\n",
       "      <th>gender</th>\n",
       "      <th>recruitment_channel</th>\n",
       "      <th>no_of_trainings</th>\n",
       "      <th>age</th>\n",
       "      <th>previous_year_rating</th>\n",
       "      <th>length_of_service</th>\n",
       "      <th>awards_won</th>\n",
       "      <th>avg_training_score</th>\n",
       "      <th>is_promoted</th>\n",
       "    </tr>\n",
       "  </thead>\n",
       "  <tbody>\n",
       "    <tr>\n",
       "      <th>0</th>\n",
       "      <td>65438</td>\n",
       "      <td>8</td>\n",
       "      <td>region_7</td>\n",
       "      <td>Master's &amp; above</td>\n",
       "      <td>1</td>\n",
       "      <td>sourcing</td>\n",
       "      <td>1</td>\n",
       "      <td>35</td>\n",
       "      <td>5.0</td>\n",
       "      <td>8</td>\n",
       "      <td>0</td>\n",
       "      <td>49.0</td>\n",
       "      <td>0</td>\n",
       "    </tr>\n",
       "    <tr>\n",
       "      <th>1</th>\n",
       "      <td>65141</td>\n",
       "      <td>7</td>\n",
       "      <td>region_22</td>\n",
       "      <td>Bachelor's</td>\n",
       "      <td>0</td>\n",
       "      <td>other</td>\n",
       "      <td>1</td>\n",
       "      <td>30</td>\n",
       "      <td>5.0</td>\n",
       "      <td>4</td>\n",
       "      <td>0</td>\n",
       "      <td>60.0</td>\n",
       "      <td>0</td>\n",
       "    </tr>\n",
       "    <tr>\n",
       "      <th>2</th>\n",
       "      <td>7513</td>\n",
       "      <td>8</td>\n",
       "      <td>region_19</td>\n",
       "      <td>Bachelor's</td>\n",
       "      <td>0</td>\n",
       "      <td>sourcing</td>\n",
       "      <td>1</td>\n",
       "      <td>34</td>\n",
       "      <td>3.0</td>\n",
       "      <td>7</td>\n",
       "      <td>0</td>\n",
       "      <td>50.0</td>\n",
       "      <td>0</td>\n",
       "    </tr>\n",
       "    <tr>\n",
       "      <th>3</th>\n",
       "      <td>2542</td>\n",
       "      <td>8</td>\n",
       "      <td>region_23</td>\n",
       "      <td>Bachelor's</td>\n",
       "      <td>0</td>\n",
       "      <td>other</td>\n",
       "      <td>2</td>\n",
       "      <td>39</td>\n",
       "      <td>1.0</td>\n",
       "      <td>10</td>\n",
       "      <td>0</td>\n",
       "      <td>50.0</td>\n",
       "      <td>0</td>\n",
       "    </tr>\n",
       "    <tr>\n",
       "      <th>4</th>\n",
       "      <td>48945</td>\n",
       "      <td>6</td>\n",
       "      <td>region_26</td>\n",
       "      <td>Bachelor's</td>\n",
       "      <td>0</td>\n",
       "      <td>other</td>\n",
       "      <td>1</td>\n",
       "      <td>45</td>\n",
       "      <td>3.0</td>\n",
       "      <td>2</td>\n",
       "      <td>0</td>\n",
       "      <td>73.0</td>\n",
       "      <td>0</td>\n",
       "    </tr>\n",
       "    <tr>\n",
       "      <th>...</th>\n",
       "      <td>...</td>\n",
       "      <td>...</td>\n",
       "      <td>...</td>\n",
       "      <td>...</td>\n",
       "      <td>...</td>\n",
       "      <td>...</td>\n",
       "      <td>...</td>\n",
       "      <td>...</td>\n",
       "      <td>...</td>\n",
       "      <td>...</td>\n",
       "      <td>...</td>\n",
       "      <td>...</td>\n",
       "      <td>...</td>\n",
       "    </tr>\n",
       "    <tr>\n",
       "      <th>54803</th>\n",
       "      <td>3030</td>\n",
       "      <td>6</td>\n",
       "      <td>region_14</td>\n",
       "      <td>Bachelor's</td>\n",
       "      <td>0</td>\n",
       "      <td>sourcing</td>\n",
       "      <td>1</td>\n",
       "      <td>48</td>\n",
       "      <td>3.0</td>\n",
       "      <td>17</td>\n",
       "      <td>0</td>\n",
       "      <td>78.0</td>\n",
       "      <td>0</td>\n",
       "    </tr>\n",
       "    <tr>\n",
       "      <th>54804</th>\n",
       "      <td>74592</td>\n",
       "      <td>7</td>\n",
       "      <td>region_27</td>\n",
       "      <td>Master's &amp; above</td>\n",
       "      <td>1</td>\n",
       "      <td>other</td>\n",
       "      <td>1</td>\n",
       "      <td>37</td>\n",
       "      <td>2.0</td>\n",
       "      <td>6</td>\n",
       "      <td>0</td>\n",
       "      <td>56.0</td>\n",
       "      <td>0</td>\n",
       "    </tr>\n",
       "    <tr>\n",
       "      <th>54805</th>\n",
       "      <td>13918</td>\n",
       "      <td>4</td>\n",
       "      <td>region_1</td>\n",
       "      <td>Bachelor's</td>\n",
       "      <td>0</td>\n",
       "      <td>other</td>\n",
       "      <td>1</td>\n",
       "      <td>27</td>\n",
       "      <td>5.0</td>\n",
       "      <td>3</td>\n",
       "      <td>0</td>\n",
       "      <td>79.0</td>\n",
       "      <td>0</td>\n",
       "    </tr>\n",
       "    <tr>\n",
       "      <th>54806</th>\n",
       "      <td>13614</td>\n",
       "      <td>8</td>\n",
       "      <td>region_9</td>\n",
       "      <td>Bachelor's</td>\n",
       "      <td>0</td>\n",
       "      <td>sourcing</td>\n",
       "      <td>1</td>\n",
       "      <td>29</td>\n",
       "      <td>1.0</td>\n",
       "      <td>2</td>\n",
       "      <td>0</td>\n",
       "      <td>60.0</td>\n",
       "      <td>0</td>\n",
       "    </tr>\n",
       "    <tr>\n",
       "      <th>54807</th>\n",
       "      <td>51526</td>\n",
       "      <td>2</td>\n",
       "      <td>region_22</td>\n",
       "      <td>Bachelor's</td>\n",
       "      <td>0</td>\n",
       "      <td>other</td>\n",
       "      <td>1</td>\n",
       "      <td>27</td>\n",
       "      <td>1.0</td>\n",
       "      <td>5</td>\n",
       "      <td>0</td>\n",
       "      <td>49.0</td>\n",
       "      <td>0</td>\n",
       "    </tr>\n",
       "  </tbody>\n",
       "</table>\n",
       "<p>50684 rows × 13 columns</p>\n",
       "</div>"
      ],
      "text/plain": [
       "       employee_id  department     region         education  gender  \\\n",
       "0            65438           8   region_7  Master's & above       1   \n",
       "1            65141           7  region_22        Bachelor's       0   \n",
       "2             7513           8  region_19        Bachelor's       0   \n",
       "3             2542           8  region_23        Bachelor's       0   \n",
       "4            48945           6  region_26        Bachelor's       0   \n",
       "...            ...         ...        ...               ...     ...   \n",
       "54803         3030           6  region_14        Bachelor's       0   \n",
       "54804        74592           7  region_27  Master's & above       1   \n",
       "54805        13918           4   region_1        Bachelor's       0   \n",
       "54806        13614           8   region_9        Bachelor's       0   \n",
       "54807        51526           2  region_22        Bachelor's       0   \n",
       "\n",
       "      recruitment_channel  no_of_trainings  age  previous_year_rating  \\\n",
       "0                sourcing                1   35                   5.0   \n",
       "1                   other                1   30                   5.0   \n",
       "2                sourcing                1   34                   3.0   \n",
       "3                   other                2   39                   1.0   \n",
       "4                   other                1   45                   3.0   \n",
       "...                   ...              ...  ...                   ...   \n",
       "54803            sourcing                1   48                   3.0   \n",
       "54804               other                1   37                   2.0   \n",
       "54805               other                1   27                   5.0   \n",
       "54806            sourcing                1   29                   1.0   \n",
       "54807               other                1   27                   1.0   \n",
       "\n",
       "       length_of_service  awards_won  avg_training_score  is_promoted  \n",
       "0                      8           0                49.0            0  \n",
       "1                      4           0                60.0            0  \n",
       "2                      7           0                50.0            0  \n",
       "3                     10           0                50.0            0  \n",
       "4                      2           0                73.0            0  \n",
       "...                  ...         ...                 ...          ...  \n",
       "54803                 17           0                78.0            0  \n",
       "54804                  6           0                56.0            0  \n",
       "54805                  3           0                79.0            0  \n",
       "54806                  2           0                60.0            0  \n",
       "54807                  5           0                49.0            0  \n",
       "\n",
       "[50684 rows x 13 columns]"
      ]
     },
     "execution_count": 27,
     "metadata": {},
     "output_type": "execute_result"
    }
   ],
   "source": [
    " #convert the department column to numaric value \n",
    "\"\"\"\n",
    "\n",
    "R&D -->  0  \n",
    "Legal --> 1  \n",
    " HR —> 2  \n",
    " Finance --> 3 \n",
    " Analytics --> 4 \n",
    "Procurement --> 5 \n",
    " Technology --> 6\n",
    "Operations --> 7\n",
    " Sales & Marketing --> 8\n",
    "\"\"\"\n",
    "convert = {\"department\": {\"R&D\" : 0 , \"Legal\" : 1 ,  \"HR\" : 2 ,  \"Finance\" : 3 , \"Analytics\" : 4 \n",
    "                          , \"Procurement\" : 5  , \"Technology\" : 6\n",
    "                          ,\"Operations\": 7 , \"Sales & Marketing\" : 8}}#convert \"Female\" to 1 and \"Male\" to 0\n",
    "data_encoding = data_encoding.replace(convert) #replace the values in the dataset\n",
    "data_encoding #display the dataSet after change"
   ]
  },
  {
   "cell_type": "markdown",
   "id": "fe02097d",
   "metadata": {
    "papermill": {
     "duration": 0.021496,
     "end_time": "2025-01-28T18:08:58.138086",
     "exception": false,
     "start_time": "2025-01-28T18:08:58.116590",
     "status": "completed"
    },
    "tags": []
   },
   "source": [
    "**Check the type of department column**"
   ]
  },
  {
   "cell_type": "code",
   "execution_count": 28,
   "id": "f94437e2",
   "metadata": {
    "execution": {
     "iopub.execute_input": "2025-01-28T18:08:58.184022Z",
     "iopub.status.busy": "2025-01-28T18:08:58.183631Z",
     "iopub.status.idle": "2025-01-28T18:08:58.189836Z",
     "shell.execute_reply": "2025-01-28T18:08:58.188832Z"
    },
    "papermill": {
     "duration": 0.031401,
     "end_time": "2025-01-28T18:08:58.191644",
     "exception": false,
     "start_time": "2025-01-28T18:08:58.160243",
     "status": "completed"
    },
    "tags": []
   },
   "outputs": [
    {
     "data": {
      "text/plain": [
       "dtype('int64')"
      ]
     },
     "execution_count": 28,
     "metadata": {},
     "output_type": "execute_result"
    }
   ],
   "source": [
    "data_encoding[\"department\"].dtypes"
   ]
  },
  {
   "cell_type": "markdown",
   "id": "61c51f9a",
   "metadata": {
    "papermill": {
     "duration": 0.021743,
     "end_time": "2025-01-28T18:08:58.235203",
     "exception": false,
     "start_time": "2025-01-28T18:08:58.213460",
     "status": "completed"
    },
    "tags": []
   },
   "source": [
    "**3. Convet education column**"
   ]
  },
  {
   "cell_type": "code",
   "execution_count": 29,
   "id": "ebc19770",
   "metadata": {
    "execution": {
     "iopub.execute_input": "2025-01-28T18:08:58.280182Z",
     "iopub.status.busy": "2025-01-28T18:08:58.279784Z",
     "iopub.status.idle": "2025-01-28T18:08:58.325569Z",
     "shell.execute_reply": "2025-01-28T18:08:58.324597Z"
    },
    "papermill": {
     "duration": 0.070968,
     "end_time": "2025-01-28T18:08:58.327772",
     "exception": false,
     "start_time": "2025-01-28T18:08:58.256804",
     "status": "completed"
    },
    "tags": []
   },
   "outputs": [
    {
     "name": "stderr",
     "output_type": "stream",
     "text": [
      "/tmp/ipykernel_23/1287198882.py:8: FutureWarning: Downcasting behavior in `replace` is deprecated and will be removed in a future version. To retain the old behavior, explicitly call `result.infer_objects(copy=False)`. To opt-in to the future behavior, set `pd.set_option('future.no_silent_downcasting', True)`\n",
      "  data_encoding = data_encoding.replace(convert) #replace the values in the dataset\n"
     ]
    },
    {
     "data": {
      "text/html": [
       "<div>\n",
       "<style scoped>\n",
       "    .dataframe tbody tr th:only-of-type {\n",
       "        vertical-align: middle;\n",
       "    }\n",
       "\n",
       "    .dataframe tbody tr th {\n",
       "        vertical-align: top;\n",
       "    }\n",
       "\n",
       "    .dataframe thead th {\n",
       "        text-align: right;\n",
       "    }\n",
       "</style>\n",
       "<table border=\"1\" class=\"dataframe\">\n",
       "  <thead>\n",
       "    <tr style=\"text-align: right;\">\n",
       "      <th></th>\n",
       "      <th>employee_id</th>\n",
       "      <th>department</th>\n",
       "      <th>region</th>\n",
       "      <th>education</th>\n",
       "      <th>gender</th>\n",
       "      <th>recruitment_channel</th>\n",
       "      <th>no_of_trainings</th>\n",
       "      <th>age</th>\n",
       "      <th>previous_year_rating</th>\n",
       "      <th>length_of_service</th>\n",
       "      <th>awards_won</th>\n",
       "      <th>avg_training_score</th>\n",
       "      <th>is_promoted</th>\n",
       "    </tr>\n",
       "  </thead>\n",
       "  <tbody>\n",
       "    <tr>\n",
       "      <th>0</th>\n",
       "      <td>65438</td>\n",
       "      <td>8</td>\n",
       "      <td>region_7</td>\n",
       "      <td>2</td>\n",
       "      <td>1</td>\n",
       "      <td>sourcing</td>\n",
       "      <td>1</td>\n",
       "      <td>35</td>\n",
       "      <td>5.0</td>\n",
       "      <td>8</td>\n",
       "      <td>0</td>\n",
       "      <td>49.0</td>\n",
       "      <td>0</td>\n",
       "    </tr>\n",
       "    <tr>\n",
       "      <th>1</th>\n",
       "      <td>65141</td>\n",
       "      <td>7</td>\n",
       "      <td>region_22</td>\n",
       "      <td>1</td>\n",
       "      <td>0</td>\n",
       "      <td>other</td>\n",
       "      <td>1</td>\n",
       "      <td>30</td>\n",
       "      <td>5.0</td>\n",
       "      <td>4</td>\n",
       "      <td>0</td>\n",
       "      <td>60.0</td>\n",
       "      <td>0</td>\n",
       "    </tr>\n",
       "    <tr>\n",
       "      <th>2</th>\n",
       "      <td>7513</td>\n",
       "      <td>8</td>\n",
       "      <td>region_19</td>\n",
       "      <td>1</td>\n",
       "      <td>0</td>\n",
       "      <td>sourcing</td>\n",
       "      <td>1</td>\n",
       "      <td>34</td>\n",
       "      <td>3.0</td>\n",
       "      <td>7</td>\n",
       "      <td>0</td>\n",
       "      <td>50.0</td>\n",
       "      <td>0</td>\n",
       "    </tr>\n",
       "    <tr>\n",
       "      <th>3</th>\n",
       "      <td>2542</td>\n",
       "      <td>8</td>\n",
       "      <td>region_23</td>\n",
       "      <td>1</td>\n",
       "      <td>0</td>\n",
       "      <td>other</td>\n",
       "      <td>2</td>\n",
       "      <td>39</td>\n",
       "      <td>1.0</td>\n",
       "      <td>10</td>\n",
       "      <td>0</td>\n",
       "      <td>50.0</td>\n",
       "      <td>0</td>\n",
       "    </tr>\n",
       "    <tr>\n",
       "      <th>4</th>\n",
       "      <td>48945</td>\n",
       "      <td>6</td>\n",
       "      <td>region_26</td>\n",
       "      <td>1</td>\n",
       "      <td>0</td>\n",
       "      <td>other</td>\n",
       "      <td>1</td>\n",
       "      <td>45</td>\n",
       "      <td>3.0</td>\n",
       "      <td>2</td>\n",
       "      <td>0</td>\n",
       "      <td>73.0</td>\n",
       "      <td>0</td>\n",
       "    </tr>\n",
       "    <tr>\n",
       "      <th>...</th>\n",
       "      <td>...</td>\n",
       "      <td>...</td>\n",
       "      <td>...</td>\n",
       "      <td>...</td>\n",
       "      <td>...</td>\n",
       "      <td>...</td>\n",
       "      <td>...</td>\n",
       "      <td>...</td>\n",
       "      <td>...</td>\n",
       "      <td>...</td>\n",
       "      <td>...</td>\n",
       "      <td>...</td>\n",
       "      <td>...</td>\n",
       "    </tr>\n",
       "    <tr>\n",
       "      <th>54803</th>\n",
       "      <td>3030</td>\n",
       "      <td>6</td>\n",
       "      <td>region_14</td>\n",
       "      <td>1</td>\n",
       "      <td>0</td>\n",
       "      <td>sourcing</td>\n",
       "      <td>1</td>\n",
       "      <td>48</td>\n",
       "      <td>3.0</td>\n",
       "      <td>17</td>\n",
       "      <td>0</td>\n",
       "      <td>78.0</td>\n",
       "      <td>0</td>\n",
       "    </tr>\n",
       "    <tr>\n",
       "      <th>54804</th>\n",
       "      <td>74592</td>\n",
       "      <td>7</td>\n",
       "      <td>region_27</td>\n",
       "      <td>2</td>\n",
       "      <td>1</td>\n",
       "      <td>other</td>\n",
       "      <td>1</td>\n",
       "      <td>37</td>\n",
       "      <td>2.0</td>\n",
       "      <td>6</td>\n",
       "      <td>0</td>\n",
       "      <td>56.0</td>\n",
       "      <td>0</td>\n",
       "    </tr>\n",
       "    <tr>\n",
       "      <th>54805</th>\n",
       "      <td>13918</td>\n",
       "      <td>4</td>\n",
       "      <td>region_1</td>\n",
       "      <td>1</td>\n",
       "      <td>0</td>\n",
       "      <td>other</td>\n",
       "      <td>1</td>\n",
       "      <td>27</td>\n",
       "      <td>5.0</td>\n",
       "      <td>3</td>\n",
       "      <td>0</td>\n",
       "      <td>79.0</td>\n",
       "      <td>0</td>\n",
       "    </tr>\n",
       "    <tr>\n",
       "      <th>54806</th>\n",
       "      <td>13614</td>\n",
       "      <td>8</td>\n",
       "      <td>region_9</td>\n",
       "      <td>1</td>\n",
       "      <td>0</td>\n",
       "      <td>sourcing</td>\n",
       "      <td>1</td>\n",
       "      <td>29</td>\n",
       "      <td>1.0</td>\n",
       "      <td>2</td>\n",
       "      <td>0</td>\n",
       "      <td>60.0</td>\n",
       "      <td>0</td>\n",
       "    </tr>\n",
       "    <tr>\n",
       "      <th>54807</th>\n",
       "      <td>51526</td>\n",
       "      <td>2</td>\n",
       "      <td>region_22</td>\n",
       "      <td>1</td>\n",
       "      <td>0</td>\n",
       "      <td>other</td>\n",
       "      <td>1</td>\n",
       "      <td>27</td>\n",
       "      <td>1.0</td>\n",
       "      <td>5</td>\n",
       "      <td>0</td>\n",
       "      <td>49.0</td>\n",
       "      <td>0</td>\n",
       "    </tr>\n",
       "  </tbody>\n",
       "</table>\n",
       "<p>50684 rows × 13 columns</p>\n",
       "</div>"
      ],
      "text/plain": [
       "       employee_id  department     region  education  gender  \\\n",
       "0            65438           8   region_7          2       1   \n",
       "1            65141           7  region_22          1       0   \n",
       "2             7513           8  region_19          1       0   \n",
       "3             2542           8  region_23          1       0   \n",
       "4            48945           6  region_26          1       0   \n",
       "...            ...         ...        ...        ...     ...   \n",
       "54803         3030           6  region_14          1       0   \n",
       "54804        74592           7  region_27          2       1   \n",
       "54805        13918           4   region_1          1       0   \n",
       "54806        13614           8   region_9          1       0   \n",
       "54807        51526           2  region_22          1       0   \n",
       "\n",
       "      recruitment_channel  no_of_trainings  age  previous_year_rating  \\\n",
       "0                sourcing                1   35                   5.0   \n",
       "1                   other                1   30                   5.0   \n",
       "2                sourcing                1   34                   3.0   \n",
       "3                   other                2   39                   1.0   \n",
       "4                   other                1   45                   3.0   \n",
       "...                   ...              ...  ...                   ...   \n",
       "54803            sourcing                1   48                   3.0   \n",
       "54804               other                1   37                   2.0   \n",
       "54805               other                1   27                   5.0   \n",
       "54806            sourcing                1   29                   1.0   \n",
       "54807               other                1   27                   1.0   \n",
       "\n",
       "       length_of_service  awards_won  avg_training_score  is_promoted  \n",
       "0                      8           0                49.0            0  \n",
       "1                      4           0                60.0            0  \n",
       "2                      7           0                50.0            0  \n",
       "3                     10           0                50.0            0  \n",
       "4                      2           0                73.0            0  \n",
       "...                  ...         ...                 ...          ...  \n",
       "54803                 17           0                78.0            0  \n",
       "54804                  6           0                56.0            0  \n",
       "54805                  3           0                79.0            0  \n",
       "54806                  2           0                60.0            0  \n",
       "54807                  5           0                49.0            0  \n",
       "\n",
       "[50684 rows x 13 columns]"
      ]
     },
     "execution_count": 29,
     "metadata": {},
     "output_type": "execute_result"
    }
   ],
   "source": [
    " #convert the education column to numaric value \n",
    "\"\"\"\n",
    " 0 --> Below Secondary\n",
    " 1 --> Bachelor's\n",
    " 2 --> Master's & above\n",
    "\"\"\"\n",
    "convert = {\"education\": {\"Below Secondary\": 0, \"Bachelor's\": 1, \"Master's & above\" :2}}#convert\" \"Female\" to 1 and \"Male\" to 0\n",
    "data_encoding = data_encoding.replace(convert) #replace the values in the dataset\n",
    "data_encoding #display the dataSet after change"
   ]
  },
  {
   "cell_type": "markdown",
   "id": "cbfaff54",
   "metadata": {
    "papermill": {
     "duration": 0.022267,
     "end_time": "2025-01-28T18:08:58.372743",
     "exception": false,
     "start_time": "2025-01-28T18:08:58.350476",
     "status": "completed"
    },
    "tags": []
   },
   "source": [
    "**Check the type of education column**"
   ]
  },
  {
   "cell_type": "code",
   "execution_count": 30,
   "id": "d929419c",
   "metadata": {
    "execution": {
     "iopub.execute_input": "2025-01-28T18:08:58.419176Z",
     "iopub.status.busy": "2025-01-28T18:08:58.418668Z",
     "iopub.status.idle": "2025-01-28T18:08:58.424986Z",
     "shell.execute_reply": "2025-01-28T18:08:58.424081Z"
    },
    "papermill": {
     "duration": 0.031672,
     "end_time": "2025-01-28T18:08:58.426946",
     "exception": false,
     "start_time": "2025-01-28T18:08:58.395274",
     "status": "completed"
    },
    "tags": []
   },
   "outputs": [
    {
     "data": {
      "text/plain": [
       "dtype('int64')"
      ]
     },
     "execution_count": 30,
     "metadata": {},
     "output_type": "execute_result"
    }
   ],
   "source": [
    "data_encoding[\"education\"].dtypes"
   ]
  },
  {
   "cell_type": "markdown",
   "id": "a1ba491d",
   "metadata": {
    "papermill": {
     "duration": 0.022145,
     "end_time": "2025-01-28T18:08:58.471835",
     "exception": false,
     "start_time": "2025-01-28T18:08:58.449690",
     "status": "completed"
    },
    "tags": []
   },
   "source": [
    "**4. Convet recruitment_channel column**"
   ]
  },
  {
   "cell_type": "code",
   "execution_count": 31,
   "id": "1fb0b043",
   "metadata": {
    "execution": {
     "iopub.execute_input": "2025-01-28T18:08:58.518084Z",
     "iopub.status.busy": "2025-01-28T18:08:58.517702Z",
     "iopub.status.idle": "2025-01-28T18:08:58.567547Z",
     "shell.execute_reply": "2025-01-28T18:08:58.566394Z"
    },
    "papermill": {
     "duration": 0.076454,
     "end_time": "2025-01-28T18:08:58.570648",
     "exception": false,
     "start_time": "2025-01-28T18:08:58.494194",
     "status": "completed"
    },
    "tags": []
   },
   "outputs": [
    {
     "name": "stderr",
     "output_type": "stream",
     "text": [
      "/tmp/ipykernel_23/3818467573.py:8: FutureWarning: Downcasting behavior in `replace` is deprecated and will be removed in a future version. To retain the old behavior, explicitly call `result.infer_objects(copy=False)`. To opt-in to the future behavior, set `pd.set_option('future.no_silent_downcasting', True)`\n",
      "  data_encoding = data_encoding.replace(convert_recruitment)#replace the values in the dataset\n"
     ]
    },
    {
     "data": {
      "text/html": [
       "<div>\n",
       "<style scoped>\n",
       "    .dataframe tbody tr th:only-of-type {\n",
       "        vertical-align: middle;\n",
       "    }\n",
       "\n",
       "    .dataframe tbody tr th {\n",
       "        vertical-align: top;\n",
       "    }\n",
       "\n",
       "    .dataframe thead th {\n",
       "        text-align: right;\n",
       "    }\n",
       "</style>\n",
       "<table border=\"1\" class=\"dataframe\">\n",
       "  <thead>\n",
       "    <tr style=\"text-align: right;\">\n",
       "      <th></th>\n",
       "      <th>employee_id</th>\n",
       "      <th>department</th>\n",
       "      <th>region</th>\n",
       "      <th>education</th>\n",
       "      <th>gender</th>\n",
       "      <th>recruitment_channel</th>\n",
       "      <th>no_of_trainings</th>\n",
       "      <th>age</th>\n",
       "      <th>previous_year_rating</th>\n",
       "      <th>length_of_service</th>\n",
       "      <th>awards_won</th>\n",
       "      <th>avg_training_score</th>\n",
       "      <th>is_promoted</th>\n",
       "    </tr>\n",
       "  </thead>\n",
       "  <tbody>\n",
       "    <tr>\n",
       "      <th>0</th>\n",
       "      <td>65438</td>\n",
       "      <td>8</td>\n",
       "      <td>region_7</td>\n",
       "      <td>2</td>\n",
       "      <td>1</td>\n",
       "      <td>0</td>\n",
       "      <td>1</td>\n",
       "      <td>35</td>\n",
       "      <td>5.0</td>\n",
       "      <td>8</td>\n",
       "      <td>0</td>\n",
       "      <td>49.0</td>\n",
       "      <td>0</td>\n",
       "    </tr>\n",
       "    <tr>\n",
       "      <th>1</th>\n",
       "      <td>65141</td>\n",
       "      <td>7</td>\n",
       "      <td>region_22</td>\n",
       "      <td>1</td>\n",
       "      <td>0</td>\n",
       "      <td>1</td>\n",
       "      <td>1</td>\n",
       "      <td>30</td>\n",
       "      <td>5.0</td>\n",
       "      <td>4</td>\n",
       "      <td>0</td>\n",
       "      <td>60.0</td>\n",
       "      <td>0</td>\n",
       "    </tr>\n",
       "    <tr>\n",
       "      <th>2</th>\n",
       "      <td>7513</td>\n",
       "      <td>8</td>\n",
       "      <td>region_19</td>\n",
       "      <td>1</td>\n",
       "      <td>0</td>\n",
       "      <td>0</td>\n",
       "      <td>1</td>\n",
       "      <td>34</td>\n",
       "      <td>3.0</td>\n",
       "      <td>7</td>\n",
       "      <td>0</td>\n",
       "      <td>50.0</td>\n",
       "      <td>0</td>\n",
       "    </tr>\n",
       "    <tr>\n",
       "      <th>3</th>\n",
       "      <td>2542</td>\n",
       "      <td>8</td>\n",
       "      <td>region_23</td>\n",
       "      <td>1</td>\n",
       "      <td>0</td>\n",
       "      <td>1</td>\n",
       "      <td>2</td>\n",
       "      <td>39</td>\n",
       "      <td>1.0</td>\n",
       "      <td>10</td>\n",
       "      <td>0</td>\n",
       "      <td>50.0</td>\n",
       "      <td>0</td>\n",
       "    </tr>\n",
       "    <tr>\n",
       "      <th>4</th>\n",
       "      <td>48945</td>\n",
       "      <td>6</td>\n",
       "      <td>region_26</td>\n",
       "      <td>1</td>\n",
       "      <td>0</td>\n",
       "      <td>1</td>\n",
       "      <td>1</td>\n",
       "      <td>45</td>\n",
       "      <td>3.0</td>\n",
       "      <td>2</td>\n",
       "      <td>0</td>\n",
       "      <td>73.0</td>\n",
       "      <td>0</td>\n",
       "    </tr>\n",
       "    <tr>\n",
       "      <th>...</th>\n",
       "      <td>...</td>\n",
       "      <td>...</td>\n",
       "      <td>...</td>\n",
       "      <td>...</td>\n",
       "      <td>...</td>\n",
       "      <td>...</td>\n",
       "      <td>...</td>\n",
       "      <td>...</td>\n",
       "      <td>...</td>\n",
       "      <td>...</td>\n",
       "      <td>...</td>\n",
       "      <td>...</td>\n",
       "      <td>...</td>\n",
       "    </tr>\n",
       "    <tr>\n",
       "      <th>54803</th>\n",
       "      <td>3030</td>\n",
       "      <td>6</td>\n",
       "      <td>region_14</td>\n",
       "      <td>1</td>\n",
       "      <td>0</td>\n",
       "      <td>0</td>\n",
       "      <td>1</td>\n",
       "      <td>48</td>\n",
       "      <td>3.0</td>\n",
       "      <td>17</td>\n",
       "      <td>0</td>\n",
       "      <td>78.0</td>\n",
       "      <td>0</td>\n",
       "    </tr>\n",
       "    <tr>\n",
       "      <th>54804</th>\n",
       "      <td>74592</td>\n",
       "      <td>7</td>\n",
       "      <td>region_27</td>\n",
       "      <td>2</td>\n",
       "      <td>1</td>\n",
       "      <td>1</td>\n",
       "      <td>1</td>\n",
       "      <td>37</td>\n",
       "      <td>2.0</td>\n",
       "      <td>6</td>\n",
       "      <td>0</td>\n",
       "      <td>56.0</td>\n",
       "      <td>0</td>\n",
       "    </tr>\n",
       "    <tr>\n",
       "      <th>54805</th>\n",
       "      <td>13918</td>\n",
       "      <td>4</td>\n",
       "      <td>region_1</td>\n",
       "      <td>1</td>\n",
       "      <td>0</td>\n",
       "      <td>1</td>\n",
       "      <td>1</td>\n",
       "      <td>27</td>\n",
       "      <td>5.0</td>\n",
       "      <td>3</td>\n",
       "      <td>0</td>\n",
       "      <td>79.0</td>\n",
       "      <td>0</td>\n",
       "    </tr>\n",
       "    <tr>\n",
       "      <th>54806</th>\n",
       "      <td>13614</td>\n",
       "      <td>8</td>\n",
       "      <td>region_9</td>\n",
       "      <td>1</td>\n",
       "      <td>0</td>\n",
       "      <td>0</td>\n",
       "      <td>1</td>\n",
       "      <td>29</td>\n",
       "      <td>1.0</td>\n",
       "      <td>2</td>\n",
       "      <td>0</td>\n",
       "      <td>60.0</td>\n",
       "      <td>0</td>\n",
       "    </tr>\n",
       "    <tr>\n",
       "      <th>54807</th>\n",
       "      <td>51526</td>\n",
       "      <td>2</td>\n",
       "      <td>region_22</td>\n",
       "      <td>1</td>\n",
       "      <td>0</td>\n",
       "      <td>1</td>\n",
       "      <td>1</td>\n",
       "      <td>27</td>\n",
       "      <td>1.0</td>\n",
       "      <td>5</td>\n",
       "      <td>0</td>\n",
       "      <td>49.0</td>\n",
       "      <td>0</td>\n",
       "    </tr>\n",
       "  </tbody>\n",
       "</table>\n",
       "<p>50684 rows × 13 columns</p>\n",
       "</div>"
      ],
      "text/plain": [
       "       employee_id  department     region  education  gender  \\\n",
       "0            65438           8   region_7          2       1   \n",
       "1            65141           7  region_22          1       0   \n",
       "2             7513           8  region_19          1       0   \n",
       "3             2542           8  region_23          1       0   \n",
       "4            48945           6  region_26          1       0   \n",
       "...            ...         ...        ...        ...     ...   \n",
       "54803         3030           6  region_14          1       0   \n",
       "54804        74592           7  region_27          2       1   \n",
       "54805        13918           4   region_1          1       0   \n",
       "54806        13614           8   region_9          1       0   \n",
       "54807        51526           2  region_22          1       0   \n",
       "\n",
       "       recruitment_channel  no_of_trainings  age  previous_year_rating  \\\n",
       "0                        0                1   35                   5.0   \n",
       "1                        1                1   30                   5.0   \n",
       "2                        0                1   34                   3.0   \n",
       "3                        1                2   39                   1.0   \n",
       "4                        1                1   45                   3.0   \n",
       "...                    ...              ...  ...                   ...   \n",
       "54803                    0                1   48                   3.0   \n",
       "54804                    1                1   37                   2.0   \n",
       "54805                    1                1   27                   5.0   \n",
       "54806                    0                1   29                   1.0   \n",
       "54807                    1                1   27                   1.0   \n",
       "\n",
       "       length_of_service  awards_won  avg_training_score  is_promoted  \n",
       "0                      8           0                49.0            0  \n",
       "1                      4           0                60.0            0  \n",
       "2                      7           0                50.0            0  \n",
       "3                     10           0                50.0            0  \n",
       "4                      2           0                73.0            0  \n",
       "...                  ...         ...                 ...          ...  \n",
       "54803                 17           0                78.0            0  \n",
       "54804                  6           0                56.0            0  \n",
       "54805                  3           0                79.0            0  \n",
       "54806                  2           0                60.0            0  \n",
       "54807                  5           0                49.0            0  \n",
       "\n",
       "[50684 rows x 13 columns]"
      ]
     },
     "execution_count": 31,
     "metadata": {},
     "output_type": "execute_result"
    }
   ],
   "source": [
    "# Convert the recruitment_channel column to numeric values\n",
    "\"\"\"\n",
    " 0 --> sourcing\n",
    " 1 --> other\n",
    " 2 --> referred\n",
    "\"\"\"\n",
    "convert_recruitment = {\"recruitment_channel\": {\"sourcing\": 0, \"other\": 1, \"referred\": 2}}#converting\n",
    "data_encoding = data_encoding.replace(convert_recruitment)#replace the values in the dataset\n",
    "data_encoding#display the dataSet after change"
   ]
  },
  {
   "cell_type": "markdown",
   "id": "6e3ce4b6",
   "metadata": {
    "papermill": {
     "duration": 0.022427,
     "end_time": "2025-01-28T18:08:58.618235",
     "exception": false,
     "start_time": "2025-01-28T18:08:58.595808",
     "status": "completed"
    },
    "tags": []
   },
   "source": [
    "**Check the type of recruitment_channel column**"
   ]
  },
  {
   "cell_type": "code",
   "execution_count": 32,
   "id": "575964a3",
   "metadata": {
    "execution": {
     "iopub.execute_input": "2025-01-28T18:08:58.666184Z",
     "iopub.status.busy": "2025-01-28T18:08:58.665433Z",
     "iopub.status.idle": "2025-01-28T18:08:58.671775Z",
     "shell.execute_reply": "2025-01-28T18:08:58.670902Z"
    },
    "papermill": {
     "duration": 0.032569,
     "end_time": "2025-01-28T18:08:58.673639",
     "exception": false,
     "start_time": "2025-01-28T18:08:58.641070",
     "status": "completed"
    },
    "tags": []
   },
   "outputs": [
    {
     "data": {
      "text/plain": [
       "dtype('int64')"
      ]
     },
     "execution_count": 32,
     "metadata": {},
     "output_type": "execute_result"
    }
   ],
   "source": [
    "data_encoding[\"recruitment_channel\"].dtypes"
   ]
  },
  {
   "cell_type": "markdown",
   "id": "962dd6b0",
   "metadata": {
    "papermill": {
     "duration": 0.022877,
     "end_time": "2025-01-28T18:08:58.719695",
     "exception": false,
     "start_time": "2025-01-28T18:08:58.696818",
     "status": "completed"
    },
    "tags": []
   },
   "source": [
    "**5. Convet region column**"
   ]
  },
  {
   "cell_type": "code",
   "execution_count": 33,
   "id": "68eff040",
   "metadata": {
    "execution": {
     "iopub.execute_input": "2025-01-28T18:08:58.768742Z",
     "iopub.status.busy": "2025-01-28T18:08:58.767765Z",
     "iopub.status.idle": "2025-01-28T18:08:58.879040Z",
     "shell.execute_reply": "2025-01-28T18:08:58.877930Z"
    },
    "papermill": {
     "duration": 0.137679,
     "end_time": "2025-01-28T18:08:58.881214",
     "exception": false,
     "start_time": "2025-01-28T18:08:58.743535",
     "status": "completed"
    },
    "tags": []
   },
   "outputs": [
    {
     "name": "stderr",
     "output_type": "stream",
     "text": [
      "/tmp/ipykernel_23/1931501562.py:5: FutureWarning: Downcasting behavior in `replace` is deprecated and will be removed in a future version. To retain the old behavior, explicitly call `result.infer_objects(copy=False)`. To opt-in to the future behavior, set `pd.set_option('future.no_silent_downcasting', True)`\n",
      "  data_encoding = data_encoding.replace({\"region\": convert_region})  #replace the values in the dataset\n"
     ]
    },
    {
     "data": {
      "text/html": [
       "<div>\n",
       "<style scoped>\n",
       "    .dataframe tbody tr th:only-of-type {\n",
       "        vertical-align: middle;\n",
       "    }\n",
       "\n",
       "    .dataframe tbody tr th {\n",
       "        vertical-align: top;\n",
       "    }\n",
       "\n",
       "    .dataframe thead th {\n",
       "        text-align: right;\n",
       "    }\n",
       "</style>\n",
       "<table border=\"1\" class=\"dataframe\">\n",
       "  <thead>\n",
       "    <tr style=\"text-align: right;\">\n",
       "      <th></th>\n",
       "      <th>employee_id</th>\n",
       "      <th>department</th>\n",
       "      <th>region</th>\n",
       "      <th>education</th>\n",
       "      <th>gender</th>\n",
       "      <th>recruitment_channel</th>\n",
       "      <th>no_of_trainings</th>\n",
       "      <th>age</th>\n",
       "      <th>previous_year_rating</th>\n",
       "      <th>length_of_service</th>\n",
       "      <th>awards_won</th>\n",
       "      <th>avg_training_score</th>\n",
       "      <th>is_promoted</th>\n",
       "    </tr>\n",
       "  </thead>\n",
       "  <tbody>\n",
       "    <tr>\n",
       "      <th>0</th>\n",
       "      <td>65438</td>\n",
       "      <td>8</td>\n",
       "      <td>7</td>\n",
       "      <td>2</td>\n",
       "      <td>1</td>\n",
       "      <td>0</td>\n",
       "      <td>1</td>\n",
       "      <td>35</td>\n",
       "      <td>5.0</td>\n",
       "      <td>8</td>\n",
       "      <td>0</td>\n",
       "      <td>49.0</td>\n",
       "      <td>0</td>\n",
       "    </tr>\n",
       "    <tr>\n",
       "      <th>1</th>\n",
       "      <td>65141</td>\n",
       "      <td>7</td>\n",
       "      <td>22</td>\n",
       "      <td>1</td>\n",
       "      <td>0</td>\n",
       "      <td>1</td>\n",
       "      <td>1</td>\n",
       "      <td>30</td>\n",
       "      <td>5.0</td>\n",
       "      <td>4</td>\n",
       "      <td>0</td>\n",
       "      <td>60.0</td>\n",
       "      <td>0</td>\n",
       "    </tr>\n",
       "    <tr>\n",
       "      <th>2</th>\n",
       "      <td>7513</td>\n",
       "      <td>8</td>\n",
       "      <td>19</td>\n",
       "      <td>1</td>\n",
       "      <td>0</td>\n",
       "      <td>0</td>\n",
       "      <td>1</td>\n",
       "      <td>34</td>\n",
       "      <td>3.0</td>\n",
       "      <td>7</td>\n",
       "      <td>0</td>\n",
       "      <td>50.0</td>\n",
       "      <td>0</td>\n",
       "    </tr>\n",
       "    <tr>\n",
       "      <th>3</th>\n",
       "      <td>2542</td>\n",
       "      <td>8</td>\n",
       "      <td>23</td>\n",
       "      <td>1</td>\n",
       "      <td>0</td>\n",
       "      <td>1</td>\n",
       "      <td>2</td>\n",
       "      <td>39</td>\n",
       "      <td>1.0</td>\n",
       "      <td>10</td>\n",
       "      <td>0</td>\n",
       "      <td>50.0</td>\n",
       "      <td>0</td>\n",
       "    </tr>\n",
       "    <tr>\n",
       "      <th>4</th>\n",
       "      <td>48945</td>\n",
       "      <td>6</td>\n",
       "      <td>26</td>\n",
       "      <td>1</td>\n",
       "      <td>0</td>\n",
       "      <td>1</td>\n",
       "      <td>1</td>\n",
       "      <td>45</td>\n",
       "      <td>3.0</td>\n",
       "      <td>2</td>\n",
       "      <td>0</td>\n",
       "      <td>73.0</td>\n",
       "      <td>0</td>\n",
       "    </tr>\n",
       "    <tr>\n",
       "      <th>...</th>\n",
       "      <td>...</td>\n",
       "      <td>...</td>\n",
       "      <td>...</td>\n",
       "      <td>...</td>\n",
       "      <td>...</td>\n",
       "      <td>...</td>\n",
       "      <td>...</td>\n",
       "      <td>...</td>\n",
       "      <td>...</td>\n",
       "      <td>...</td>\n",
       "      <td>...</td>\n",
       "      <td>...</td>\n",
       "      <td>...</td>\n",
       "    </tr>\n",
       "    <tr>\n",
       "      <th>54803</th>\n",
       "      <td>3030</td>\n",
       "      <td>6</td>\n",
       "      <td>14</td>\n",
       "      <td>1</td>\n",
       "      <td>0</td>\n",
       "      <td>0</td>\n",
       "      <td>1</td>\n",
       "      <td>48</td>\n",
       "      <td>3.0</td>\n",
       "      <td>17</td>\n",
       "      <td>0</td>\n",
       "      <td>78.0</td>\n",
       "      <td>0</td>\n",
       "    </tr>\n",
       "    <tr>\n",
       "      <th>54804</th>\n",
       "      <td>74592</td>\n",
       "      <td>7</td>\n",
       "      <td>27</td>\n",
       "      <td>2</td>\n",
       "      <td>1</td>\n",
       "      <td>1</td>\n",
       "      <td>1</td>\n",
       "      <td>37</td>\n",
       "      <td>2.0</td>\n",
       "      <td>6</td>\n",
       "      <td>0</td>\n",
       "      <td>56.0</td>\n",
       "      <td>0</td>\n",
       "    </tr>\n",
       "    <tr>\n",
       "      <th>54805</th>\n",
       "      <td>13918</td>\n",
       "      <td>4</td>\n",
       "      <td>1</td>\n",
       "      <td>1</td>\n",
       "      <td>0</td>\n",
       "      <td>1</td>\n",
       "      <td>1</td>\n",
       "      <td>27</td>\n",
       "      <td>5.0</td>\n",
       "      <td>3</td>\n",
       "      <td>0</td>\n",
       "      <td>79.0</td>\n",
       "      <td>0</td>\n",
       "    </tr>\n",
       "    <tr>\n",
       "      <th>54806</th>\n",
       "      <td>13614</td>\n",
       "      <td>8</td>\n",
       "      <td>9</td>\n",
       "      <td>1</td>\n",
       "      <td>0</td>\n",
       "      <td>0</td>\n",
       "      <td>1</td>\n",
       "      <td>29</td>\n",
       "      <td>1.0</td>\n",
       "      <td>2</td>\n",
       "      <td>0</td>\n",
       "      <td>60.0</td>\n",
       "      <td>0</td>\n",
       "    </tr>\n",
       "    <tr>\n",
       "      <th>54807</th>\n",
       "      <td>51526</td>\n",
       "      <td>2</td>\n",
       "      <td>22</td>\n",
       "      <td>1</td>\n",
       "      <td>0</td>\n",
       "      <td>1</td>\n",
       "      <td>1</td>\n",
       "      <td>27</td>\n",
       "      <td>1.0</td>\n",
       "      <td>5</td>\n",
       "      <td>0</td>\n",
       "      <td>49.0</td>\n",
       "      <td>0</td>\n",
       "    </tr>\n",
       "  </tbody>\n",
       "</table>\n",
       "<p>50684 rows × 13 columns</p>\n",
       "</div>"
      ],
      "text/plain": [
       "       employee_id  department  region  education  gender  \\\n",
       "0            65438           8       7          2       1   \n",
       "1            65141           7      22          1       0   \n",
       "2             7513           8      19          1       0   \n",
       "3             2542           8      23          1       0   \n",
       "4            48945           6      26          1       0   \n",
       "...            ...         ...     ...        ...     ...   \n",
       "54803         3030           6      14          1       0   \n",
       "54804        74592           7      27          2       1   \n",
       "54805        13918           4       1          1       0   \n",
       "54806        13614           8       9          1       0   \n",
       "54807        51526           2      22          1       0   \n",
       "\n",
       "       recruitment_channel  no_of_trainings  age  previous_year_rating  \\\n",
       "0                        0                1   35                   5.0   \n",
       "1                        1                1   30                   5.0   \n",
       "2                        0                1   34                   3.0   \n",
       "3                        1                2   39                   1.0   \n",
       "4                        1                1   45                   3.0   \n",
       "...                    ...              ...  ...                   ...   \n",
       "54803                    0                1   48                   3.0   \n",
       "54804                    1                1   37                   2.0   \n",
       "54805                    1                1   27                   5.0   \n",
       "54806                    0                1   29                   1.0   \n",
       "54807                    1                1   27                   1.0   \n",
       "\n",
       "       length_of_service  awards_won  avg_training_score  is_promoted  \n",
       "0                      8           0                49.0            0  \n",
       "1                      4           0                60.0            0  \n",
       "2                      7           0                50.0            0  \n",
       "3                     10           0                50.0            0  \n",
       "4                      2           0                73.0            0  \n",
       "...                  ...         ...                 ...          ...  \n",
       "54803                 17           0                78.0            0  \n",
       "54804                  6           0                56.0            0  \n",
       "54805                  3           0                79.0            0  \n",
       "54806                  2           0                60.0            0  \n",
       "54807                  5           0                49.0            0  \n",
       "\n",
       "[50684 rows x 13 columns]"
      ]
     },
     "execution_count": 33,
     "metadata": {},
     "output_type": "execute_result"
    }
   ],
   "source": [
    "# Generate the mapping for region dynamically\n",
    "convert_region = {f\"region_{i}\": i for i in range(1, 35)}  # Replace 35 with the actual number of unique regions\n",
    "\n",
    "# Apply the conversion\n",
    "data_encoding = data_encoding.replace({\"region\": convert_region})  #replace the values in the dataset\n",
    "\n",
    "data_encoding #display the dataSet after change"
   ]
  },
  {
   "cell_type": "markdown",
   "id": "7bc2c91a",
   "metadata": {
    "papermill": {
     "duration": 0.024254,
     "end_time": "2025-01-28T18:08:58.929265",
     "exception": false,
     "start_time": "2025-01-28T18:08:58.905011",
     "status": "completed"
    },
    "tags": []
   },
   "source": [
    "**Check the type of region column**"
   ]
  },
  {
   "cell_type": "code",
   "execution_count": 34,
   "id": "3e5cd144",
   "metadata": {
    "execution": {
     "iopub.execute_input": "2025-01-28T18:08:58.978062Z",
     "iopub.status.busy": "2025-01-28T18:08:58.977647Z",
     "iopub.status.idle": "2025-01-28T18:08:58.983836Z",
     "shell.execute_reply": "2025-01-28T18:08:58.982902Z"
    },
    "papermill": {
     "duration": 0.033107,
     "end_time": "2025-01-28T18:08:58.985695",
     "exception": false,
     "start_time": "2025-01-28T18:08:58.952588",
     "status": "completed"
    },
    "tags": []
   },
   "outputs": [
    {
     "data": {
      "text/plain": [
       "dtype('int64')"
      ]
     },
     "execution_count": 34,
     "metadata": {},
     "output_type": "execute_result"
    }
   ],
   "source": [
    "data_encoding[\"region\"].dtypes"
   ]
  },
  {
   "cell_type": "code",
   "execution_count": 35,
   "id": "eeaab268",
   "metadata": {
    "execution": {
     "iopub.execute_input": "2025-01-28T18:08:59.034488Z",
     "iopub.status.busy": "2025-01-28T18:08:59.033824Z",
     "iopub.status.idle": "2025-01-28T18:08:59.041332Z",
     "shell.execute_reply": "2025-01-28T18:08:59.040309Z"
    },
    "papermill": {
     "duration": 0.034329,
     "end_time": "2025-01-28T18:08:59.043355",
     "exception": false,
     "start_time": "2025-01-28T18:08:59.009026",
     "status": "completed"
    },
    "tags": []
   },
   "outputs": [
    {
     "data": {
      "text/plain": [
       "employee_id               int64\n",
       "department                int64\n",
       "region                    int64\n",
       "education                 int64\n",
       "gender                    int64\n",
       "recruitment_channel       int64\n",
       "no_of_trainings           int64\n",
       "age                       int64\n",
       "previous_year_rating    float64\n",
       "length_of_service         int64\n",
       "awards_won                int64\n",
       "avg_training_score      float64\n",
       "is_promoted               int64\n",
       "dtype: object"
      ]
     },
     "execution_count": 35,
     "metadata": {},
     "output_type": "execute_result"
    }
   ],
   "source": [
    "data_encoding.dtypes"
   ]
  },
  {
   "cell_type": "markdown",
   "id": "39886adc",
   "metadata": {
    "papermill": {
     "duration": 0.023599,
     "end_time": "2025-01-28T18:08:59.092239",
     "exception": false,
     "start_time": "2025-01-28T18:08:59.068640",
     "status": "completed"
    },
    "tags": []
   },
   "source": [
    "**Check the type of all columns**"
   ]
  },
  {
   "cell_type": "code",
   "execution_count": 36,
   "id": "8ce0b0f3",
   "metadata": {
    "execution": {
     "iopub.execute_input": "2025-01-28T18:08:59.140785Z",
     "iopub.status.busy": "2025-01-28T18:08:59.140420Z",
     "iopub.status.idle": "2025-01-28T18:08:59.148420Z",
     "shell.execute_reply": "2025-01-28T18:08:59.147470Z"
    },
    "papermill": {
     "duration": 0.034773,
     "end_time": "2025-01-28T18:08:59.150399",
     "exception": false,
     "start_time": "2025-01-28T18:08:59.115626",
     "status": "completed"
    },
    "tags": []
   },
   "outputs": [
    {
     "data": {
      "text/plain": [
       "0"
      ]
     },
     "execution_count": 36,
     "metadata": {},
     "output_type": "execute_result"
    }
   ],
   "source": [
    "np.sum(data_encoding.isnull().any(axis=1))"
   ]
  },
  {
   "cell_type": "markdown",
   "id": "76ab9934",
   "metadata": {
    "papermill": {
     "duration": 0.023324,
     "end_time": "2025-01-28T18:08:59.198033",
     "exception": false,
     "start_time": "2025-01-28T18:08:59.174709",
     "status": "completed"
    },
    "tags": []
   },
   "source": [
    "# Deals With Imbalanced Classes "
   ]
  },
  {
   "cell_type": "code",
   "execution_count": 37,
   "id": "31a69ff6",
   "metadata": {
    "execution": {
     "iopub.execute_input": "2025-01-28T18:08:59.247543Z",
     "iopub.status.busy": "2025-01-28T18:08:59.247184Z",
     "iopub.status.idle": "2025-01-28T18:08:59.350147Z",
     "shell.execute_reply": "2025-01-28T18:08:59.349108Z"
    },
    "papermill": {
     "duration": 0.129852,
     "end_time": "2025-01-28T18:08:59.352053",
     "exception": false,
     "start_time": "2025-01-28T18:08:59.222201",
     "status": "completed"
    },
    "tags": []
   },
   "outputs": [
    {
     "data": {
      "text/html": [
       "<div>\n",
       "<style scoped>\n",
       "    .dataframe tbody tr th:only-of-type {\n",
       "        vertical-align: middle;\n",
       "    }\n",
       "\n",
       "    .dataframe tbody tr th {\n",
       "        vertical-align: top;\n",
       "    }\n",
       "\n",
       "    .dataframe thead th {\n",
       "        text-align: right;\n",
       "    }\n",
       "</style>\n",
       "<table border=\"1\" class=\"dataframe\">\n",
       "  <thead>\n",
       "    <tr style=\"text-align: right;\">\n",
       "      <th></th>\n",
       "      <th>employee_id</th>\n",
       "      <th>department</th>\n",
       "      <th>region</th>\n",
       "      <th>education</th>\n",
       "      <th>gender</th>\n",
       "      <th>recruitment_channel</th>\n",
       "      <th>no_of_trainings</th>\n",
       "      <th>age</th>\n",
       "      <th>previous_year_rating</th>\n",
       "      <th>length_of_service</th>\n",
       "      <th>awards_won</th>\n",
       "      <th>avg_training_score</th>\n",
       "      <th>is_promoted</th>\n",
       "    </tr>\n",
       "  </thead>\n",
       "  <tbody>\n",
       "    <tr>\n",
       "      <th>0</th>\n",
       "      <td>65438</td>\n",
       "      <td>8</td>\n",
       "      <td>7</td>\n",
       "      <td>2</td>\n",
       "      <td>1</td>\n",
       "      <td>0</td>\n",
       "      <td>1</td>\n",
       "      <td>35</td>\n",
       "      <td>5.000000</td>\n",
       "      <td>8</td>\n",
       "      <td>0</td>\n",
       "      <td>49.000000</td>\n",
       "      <td>0</td>\n",
       "    </tr>\n",
       "    <tr>\n",
       "      <th>1</th>\n",
       "      <td>65141</td>\n",
       "      <td>7</td>\n",
       "      <td>22</td>\n",
       "      <td>1</td>\n",
       "      <td>0</td>\n",
       "      <td>1</td>\n",
       "      <td>1</td>\n",
       "      <td>30</td>\n",
       "      <td>5.000000</td>\n",
       "      <td>4</td>\n",
       "      <td>0</td>\n",
       "      <td>60.000000</td>\n",
       "      <td>0</td>\n",
       "    </tr>\n",
       "    <tr>\n",
       "      <th>2</th>\n",
       "      <td>7513</td>\n",
       "      <td>8</td>\n",
       "      <td>19</td>\n",
       "      <td>1</td>\n",
       "      <td>0</td>\n",
       "      <td>0</td>\n",
       "      <td>1</td>\n",
       "      <td>34</td>\n",
       "      <td>3.000000</td>\n",
       "      <td>7</td>\n",
       "      <td>0</td>\n",
       "      <td>50.000000</td>\n",
       "      <td>0</td>\n",
       "    </tr>\n",
       "    <tr>\n",
       "      <th>3</th>\n",
       "      <td>2542</td>\n",
       "      <td>8</td>\n",
       "      <td>23</td>\n",
       "      <td>1</td>\n",
       "      <td>0</td>\n",
       "      <td>1</td>\n",
       "      <td>2</td>\n",
       "      <td>39</td>\n",
       "      <td>1.000000</td>\n",
       "      <td>10</td>\n",
       "      <td>0</td>\n",
       "      <td>50.000000</td>\n",
       "      <td>0</td>\n",
       "    </tr>\n",
       "    <tr>\n",
       "      <th>4</th>\n",
       "      <td>48945</td>\n",
       "      <td>6</td>\n",
       "      <td>26</td>\n",
       "      <td>1</td>\n",
       "      <td>0</td>\n",
       "      <td>1</td>\n",
       "      <td>1</td>\n",
       "      <td>45</td>\n",
       "      <td>3.000000</td>\n",
       "      <td>2</td>\n",
       "      <td>0</td>\n",
       "      <td>73.000000</td>\n",
       "      <td>0</td>\n",
       "    </tr>\n",
       "    <tr>\n",
       "      <th>...</th>\n",
       "      <td>...</td>\n",
       "      <td>...</td>\n",
       "      <td>...</td>\n",
       "      <td>...</td>\n",
       "      <td>...</td>\n",
       "      <td>...</td>\n",
       "      <td>...</td>\n",
       "      <td>...</td>\n",
       "      <td>...</td>\n",
       "      <td>...</td>\n",
       "      <td>...</td>\n",
       "      <td>...</td>\n",
       "      <td>...</td>\n",
       "    </tr>\n",
       "    <tr>\n",
       "      <th>92705</th>\n",
       "      <td>38869</td>\n",
       "      <td>3</td>\n",
       "      <td>5</td>\n",
       "      <td>1</td>\n",
       "      <td>0</td>\n",
       "      <td>0</td>\n",
       "      <td>1</td>\n",
       "      <td>45</td>\n",
       "      <td>3.000000</td>\n",
       "      <td>5</td>\n",
       "      <td>0</td>\n",
       "      <td>58.645729</td>\n",
       "      <td>1</td>\n",
       "    </tr>\n",
       "    <tr>\n",
       "      <th>92706</th>\n",
       "      <td>74229</td>\n",
       "      <td>7</td>\n",
       "      <td>22</td>\n",
       "      <td>1</td>\n",
       "      <td>1</td>\n",
       "      <td>0</td>\n",
       "      <td>1</td>\n",
       "      <td>35</td>\n",
       "      <td>2.038358</td>\n",
       "      <td>4</td>\n",
       "      <td>0</td>\n",
       "      <td>69.654782</td>\n",
       "      <td>1</td>\n",
       "    </tr>\n",
       "    <tr>\n",
       "      <th>92707</th>\n",
       "      <td>37276</td>\n",
       "      <td>5</td>\n",
       "      <td>2</td>\n",
       "      <td>1</td>\n",
       "      <td>0</td>\n",
       "      <td>1</td>\n",
       "      <td>1</td>\n",
       "      <td>37</td>\n",
       "      <td>2.329785</td>\n",
       "      <td>4</td>\n",
       "      <td>0</td>\n",
       "      <td>71.879428</td>\n",
       "      <td>1</td>\n",
       "    </tr>\n",
       "    <tr>\n",
       "      <th>92708</th>\n",
       "      <td>40964</td>\n",
       "      <td>6</td>\n",
       "      <td>22</td>\n",
       "      <td>1</td>\n",
       "      <td>0</td>\n",
       "      <td>1</td>\n",
       "      <td>1</td>\n",
       "      <td>36</td>\n",
       "      <td>5.000000</td>\n",
       "      <td>7</td>\n",
       "      <td>0</td>\n",
       "      <td>66.874419</td>\n",
       "      <td>1</td>\n",
       "    </tr>\n",
       "    <tr>\n",
       "      <th>92709</th>\n",
       "      <td>70885</td>\n",
       "      <td>6</td>\n",
       "      <td>10</td>\n",
       "      <td>1</td>\n",
       "      <td>0</td>\n",
       "      <td>1</td>\n",
       "      <td>1</td>\n",
       "      <td>37</td>\n",
       "      <td>3.370079</td>\n",
       "      <td>4</td>\n",
       "      <td>0</td>\n",
       "      <td>70.149606</td>\n",
       "      <td>1</td>\n",
       "    </tr>\n",
       "  </tbody>\n",
       "</table>\n",
       "<p>92710 rows × 13 columns</p>\n",
       "</div>"
      ],
      "text/plain": [
       "       employee_id  department  region  education  gender  \\\n",
       "0            65438           8       7          2       1   \n",
       "1            65141           7      22          1       0   \n",
       "2             7513           8      19          1       0   \n",
       "3             2542           8      23          1       0   \n",
       "4            48945           6      26          1       0   \n",
       "...            ...         ...     ...        ...     ...   \n",
       "92705        38869           3       5          1       0   \n",
       "92706        74229           7      22          1       1   \n",
       "92707        37276           5       2          1       0   \n",
       "92708        40964           6      22          1       0   \n",
       "92709        70885           6      10          1       0   \n",
       "\n",
       "       recruitment_channel  no_of_trainings  age  previous_year_rating  \\\n",
       "0                        0                1   35              5.000000   \n",
       "1                        1                1   30              5.000000   \n",
       "2                        0                1   34              3.000000   \n",
       "3                        1                2   39              1.000000   \n",
       "4                        1                1   45              3.000000   \n",
       "...                    ...              ...  ...                   ...   \n",
       "92705                    0                1   45              3.000000   \n",
       "92706                    0                1   35              2.038358   \n",
       "92707                    1                1   37              2.329785   \n",
       "92708                    1                1   36              5.000000   \n",
       "92709                    1                1   37              3.370079   \n",
       "\n",
       "       length_of_service  awards_won  avg_training_score  is_promoted  \n",
       "0                      8           0           49.000000            0  \n",
       "1                      4           0           60.000000            0  \n",
       "2                      7           0           50.000000            0  \n",
       "3                     10           0           50.000000            0  \n",
       "4                      2           0           73.000000            0  \n",
       "...                  ...         ...                 ...          ...  \n",
       "92705                  5           0           58.645729            1  \n",
       "92706                  4           0           69.654782            1  \n",
       "92707                  4           0           71.879428            1  \n",
       "92708                  7           0           66.874419            1  \n",
       "92709                  4           0           70.149606            1  \n",
       "\n",
       "[92710 rows x 13 columns]"
      ]
     },
     "execution_count": 37,
     "metadata": {},
     "output_type": "execute_result"
    }
   ],
   "source": [
    "# Assume data_cleaned is the dataset after removing outliers\n",
    "X = data_encoding.drop(columns=['is_promoted'])  # Drop unwanted columns\n",
    "y = data_encoding['is_promoted']  # Target variable\n",
    "\n",
    "# Apply SMOTE for handling class imbalance\n",
    "smote = SMOTE(random_state=42)\n",
    "X_resampled, y_resampled = smote.fit_resample(X, y)\n",
    "\n",
    "# Combine the resampled data into a new DataFrame\n",
    "resampled_data = pd.DataFrame(X_resampled, columns=X_resampled.columns)\n",
    "resampled_data['is_promoted'] = y_resampled\n",
    "\n",
    "resampled_data #display the dataSet after SMOTE"
   ]
  },
  {
   "cell_type": "code",
   "execution_count": 38,
   "id": "1af15ff8",
   "metadata": {
    "execution": {
     "iopub.execute_input": "2025-01-28T18:08:59.402398Z",
     "iopub.status.busy": "2025-01-28T18:08:59.401566Z",
     "iopub.status.idle": "2025-01-28T18:08:59.813669Z",
     "shell.execute_reply": "2025-01-28T18:08:59.812596Z"
    },
    "papermill": {
     "duration": 0.439471,
     "end_time": "2025-01-28T18:08:59.815570",
     "exception": false,
     "start_time": "2025-01-28T18:08:59.376099",
     "status": "completed"
    },
    "tags": []
   },
   "outputs": [
    {
     "data": {
      "image/png": "[encoded data removed]",
      "text/plain": [
       "<Figure size 1200x600 with 2 Axes>"
      ]
     },
     "metadata": {},
     "output_type": "display_data"
    }
   ],
   "source": [
    "# Plot class distribution before and after SMOTE\n",
    "fig, axes = plt.subplots(1, 2, figsize=(12, 6))\n",
    "data_cleaned['is_promoted'].value_counts().plot(kind='bar', ax=axes[0], title=\"Before SMOTE\")\n",
    "resampled_data['is_promoted'].value_counts().plot(kind='bar', ax=axes[1], title=\"After SMOTE\")\n",
    "plt.tight_layout()"
   ]
  },
  {
   "cell_type": "code",
   "execution_count": 39,
   "id": "2d14120d",
   "metadata": {
    "execution": {
     "iopub.execute_input": "2025-01-28T18:08:59.870726Z",
     "iopub.status.busy": "2025-01-28T18:08:59.870126Z",
     "iopub.status.idle": "2025-01-28T18:09:00.302376Z",
     "shell.execute_reply": "2025-01-28T18:09:00.301575Z"
    },
    "papermill": {
     "duration": 0.461612,
     "end_time": "2025-01-28T18:09:00.304492",
     "exception": false,
     "start_time": "2025-01-28T18:08:59.842880",
     "status": "completed"
    },
    "tags": []
   },
   "outputs": [],
   "source": [
    "# Save the cleaned and resampled dataset\n",
    "resampled_data.to_csv('cleaned_resampled_data.csv', index=False)"
   ]
  },
  {
   "cell_type": "markdown",
   "id": "93a76235",
   "metadata": {
    "papermill": {
     "duration": 0.02409,
     "end_time": "2025-01-28T18:09:00.353240",
     "exception": false,
     "start_time": "2025-01-28T18:09:00.329150",
     "status": "completed"
    },
    "tags": []
   },
   "source": [
    "# Split Data into Traning and Tests"
   ]
  },
  {
   "cell_type": "code",
   "execution_count": 40,
   "id": "5f9cf451",
   "metadata": {
    "execution": {
     "iopub.execute_input": "2025-01-28T18:09:00.404314Z",
     "iopub.status.busy": "2025-01-28T18:09:00.403490Z",
     "iopub.status.idle": "2025-01-28T18:09:00.410667Z",
     "shell.execute_reply": "2025-01-28T18:09:00.409969Z"
    },
    "papermill": {
     "duration": 0.034816,
     "end_time": "2025-01-28T18:09:00.412592",
     "exception": false,
     "start_time": "2025-01-28T18:09:00.377776",
     "status": "completed"
    },
    "tags": []
   },
   "outputs": [],
   "source": [
    "# selected features  \n",
    "selected_features = ['department', 'education','region', 'avg_training_score', 'length_of_service', 'previous_year_rating']\n",
    "X_resampled= X_resampled[selected_features]\n"
   ]
  },
  {
   "cell_type": "code",
   "execution_count": 41,
   "id": "2ce8f377",
   "metadata": {
    "execution": {
     "iopub.execute_input": "2025-01-28T18:09:00.463376Z",
     "iopub.status.busy": "2025-01-28T18:09:00.462716Z",
     "iopub.status.idle": "2025-01-28T18:09:00.483899Z",
     "shell.execute_reply": "2025-01-28T18:09:00.483137Z"
    },
    "papermill": {
     "duration": 0.049117,
     "end_time": "2025-01-28T18:09:00.486376",
     "exception": false,
     "start_time": "2025-01-28T18:09:00.437259",
     "status": "completed"
    },
    "tags": []
   },
   "outputs": [],
   "source": [
    " #Split the resampled data into train and test sets\n",
    "x_train, x_test, y_train, y_test = train_test_split(X_resampled, y_resampled, test_size=0.2, random_state=42)\n"
   ]
  },
  {
   "cell_type": "markdown",
   "id": "8116a128",
   "metadata": {
    "papermill": {
     "duration": 0.024493,
     "end_time": "2025-01-28T18:09:00.537588",
     "exception": false,
     "start_time": "2025-01-28T18:09:00.513095",
     "status": "completed"
    },
    "tags": []
   },
   "source": [
    " # Random Forest Model"
   ]
  },
  {
   "cell_type": "code",
   "execution_count": 42,
   "id": "d46b572b",
   "metadata": {
    "execution": {
     "iopub.execute_input": "2025-01-28T18:09:00.588683Z",
     "iopub.status.busy": "2025-01-28T18:09:00.587836Z",
     "iopub.status.idle": "2025-01-28T18:09:00.592560Z",
     "shell.execute_reply": "2025-01-28T18:09:00.591657Z"
    },
    "papermill": {
     "duration": 0.03253,
     "end_time": "2025-01-28T18:09:00.594378",
     "exception": false,
     "start_time": "2025-01-28T18:09:00.561848",
     "status": "completed"
    },
    "tags": []
   },
   "outputs": [],
   "source": [
    "# Initialize the Random Forest classifier\n",
    "classifier = RandomForestClassifier(random_state=42, n_estimators=950, \n",
    "                                    max_depth = 35, min_samples_split = 8,\n",
    "                                    min_samples_leaf = 1 , max_features= 1.0 , criterion = 'gini')"
   ]
  },
  {
   "cell_type": "code",
   "execution_count": 43,
   "id": "1d2f83c9",
   "metadata": {
    "execution": {
     "iopub.execute_input": "2025-01-28T18:09:00.646062Z",
     "iopub.status.busy": "2025-01-28T18:09:00.645291Z",
     "iopub.status.idle": "2025-01-28T18:10:52.471141Z",
     "shell.execute_reply": "2025-01-28T18:10:52.470150Z"
    },
    "papermill": {
     "duration": 111.879283,
     "end_time": "2025-01-28T18:10:52.498333",
     "exception": false,
     "start_time": "2025-01-28T18:09:00.619050",
     "status": "completed"
    },
    "tags": []
   },
   "outputs": [
    {
     "data": {
      "text/html": [
       "<style>#sk-container-id-1 {color: black;background-color: white;}#sk-container-id-1 pre{padding: 0;}#sk-container-id-1 div.sk-toggleable {background-color: white;}#sk-container-id-1 label.sk-toggleable__label {cursor: pointer;display: block;width: 100%;margin-bottom: 0;padding: 0.3em;box-sizing: border-box;text-align: center;}#sk-container-id-1 label.sk-toggleable__label-arrow:before {content: \"▸\";float: left;margin-right: 0.25em;color: #696969;}#sk-container-id-1 label.sk-toggleable__label-arrow:hover:before {color: black;}#sk-container-id-1 div.sk-estimator:hover label.sk-toggleable__label-arrow:before {color: black;}#sk-container-id-1 div.sk-toggleable__content {max-height: 0;max-width: 0;overflow: hidden;text-align: left;background-color: #f0f8ff;}#sk-container-id-1 div.sk-toggleable__content pre {margin: 0.2em;color: black;border-radius: 0.25em;background-color: #f0f8ff;}#sk-container-id-1 input.sk-toggleable__control:checked~div.sk-toggleable__content {max-height: 200px;max-width: 100%;overflow: auto;}#sk-container-id-1 input.sk-toggleable__control:checked~label.sk-toggleable__label-arrow:before {content: \"▾\";}#sk-container-id-1 div.sk-estimator input.sk-toggleable__control:checked~label.sk-toggleable__label {background-color: #d4ebff;}#sk-container-id-1 div.sk-label input.sk-toggleable__control:checked~label.sk-toggleable__label {background-color: #d4ebff;}#sk-container-id-1 input.sk-hidden--visually {border: 0;clip: rect(1px 1px 1px 1px);clip: rect(1px, 1px, 1px, 1px);height: 1px;margin: -1px;overflow: hidden;padding: 0;position: absolute;width: 1px;}#sk-container-id-1 div.sk-estimator {font-family: monospace;background-color: #f0f8ff;border: 1px dotted black;border-radius: 0.25em;box-sizing: border-box;margin-bottom: 0.5em;}#sk-container-id-1 div.sk-estimator:hover {background-color: #d4ebff;}#sk-container-id-1 div.sk-parallel-item::after {content: \"\";width: 100%;border-bottom: 1px solid gray;flex-grow: 1;}#sk-container-id-1 div.sk-label:hover label.sk-toggleable__label {background-color: #d4ebff;}#sk-container-id-1 div.sk-serial::before {content: \"\";position: absolute;border-left: 1px solid gray;box-sizing: border-box;top: 0;bottom: 0;left: 50%;z-index: 0;}#sk-container-id-1 div.sk-serial {display: flex;flex-direction: column;align-items: center;background-color: white;padding-right: 0.2em;padding-left: 0.2em;position: relative;}#sk-container-id-1 div.sk-item {position: relative;z-index: 1;}#sk-container-id-1 div.sk-parallel {display: flex;align-items: stretch;justify-content: center;background-color: white;position: relative;}#sk-container-id-1 div.sk-item::before, #sk-container-id-1 div.sk-parallel-item::before {content: \"\";position: absolute;border-left: 1px solid gray;box-sizing: border-box;top: 0;bottom: 0;left: 50%;z-index: -1;}#sk-container-id-1 div.sk-parallel-item {display: flex;flex-direction: column;z-index: 1;position: relative;background-color: white;}#sk-container-id-1 div.sk-parallel-item:first-child::after {align-self: flex-end;width: 50%;}#sk-container-id-1 div.sk-parallel-item:last-child::after {align-self: flex-start;width: 50%;}#sk-container-id-1 div.sk-parallel-item:only-child::after {width: 0;}#sk-container-id-1 div.sk-dashed-wrapped {border: 1px dashed gray;margin: 0 0.4em 0.5em 0.4em;box-sizing: border-box;padding-bottom: 0.4em;background-color: white;}#sk-container-id-1 div.sk-label label {font-family: monospace;font-weight: bold;display: inline-block;line-height: 1.2em;}#sk-container-id-1 div.sk-label-container {text-align: center;}#sk-container-id-1 div.sk-container {/* jupyter's `normalize.less` sets `[hidden] { display: none; }` but bootstrap.min.css set `[hidden] { display: none !important; }` so we also need the `!important` here to be able to override the default hidden behavior on the sphinx rendered scikit-learn.org. See: https://github.com/scikit-learn/scikit-learn/issues/21755 */display: inline-block !important;position: relative;}#sk-container-id-1 div.sk-text-repr-fallback {display: none;}</style><div id=\"sk-container-id-1\" class=\"sk-top-container\"><div class=\"sk-text-repr-fallback\"><pre>RandomForestClassifier(max_depth=35, max_features=1.0, min_samples_split=8,\n",
       "                       n_estimators=950, random_state=42)</pre><b>In a Jupyter environment, please rerun this cell to show the HTML representation or trust the notebook. <br />On GitHub, the HTML representation is unable to render, please try loading this page with nbviewer.org.</b></div><div class=\"sk-container\" hidden><div class=\"sk-item\"><div class=\"sk-estimator sk-toggleable\"><input class=\"sk-toggleable__control sk-hidden--visually\" id=\"sk-estimator-id-1\" type=\"checkbox\" checked><label for=\"sk-estimator-id-1\" class=\"sk-toggleable__label sk-toggleable__label-arrow\">RandomForestClassifier</label><div class=\"sk-toggleable__content\"><pre>RandomForestClassifier(max_depth=35, max_features=1.0, min_samples_split=8,\n",
       "                       n_estimators=950, random_state=42)</pre></div></div></div></div></div>"
      ],
      "text/plain": [
       "RandomForestClassifier(max_depth=35, max_features=1.0, min_samples_split=8,\n",
       "                       n_estimators=950, random_state=42)"
      ]
     },
     "execution_count": 43,
     "metadata": {},
     "output_type": "execute_result"
    }
   ],
   "source": [
    "#Train the classifier\n",
    "classifier.fit(x_train,y_train)"
   ]
  },
  {
   "cell_type": "code",
   "execution_count": 44,
   "id": "b86f7742",
   "metadata": {
    "execution": {
     "iopub.execute_input": "2025-01-28T18:10:52.551260Z",
     "iopub.status.busy": "2025-01-28T18:10:52.550535Z",
     "iopub.status.idle": "2025-01-28T18:10:52.770896Z",
     "shell.execute_reply": "2025-01-28T18:10:52.769899Z"
    },
    "papermill": {
     "duration": 0.249224,
     "end_time": "2025-01-28T18:10:52.772993",
     "exception": false,
     "start_time": "2025-01-28T18:10:52.523769",
     "status": "completed"
    },
    "tags": []
   },
   "outputs": [
    {
     "data": {
      "text/html": [
       "<div>\n",
       "<style scoped>\n",
       "    .dataframe tbody tr th:only-of-type {\n",
       "        vertical-align: middle;\n",
       "    }\n",
       "\n",
       "    .dataframe tbody tr th {\n",
       "        vertical-align: top;\n",
       "    }\n",
       "\n",
       "    .dataframe thead th {\n",
       "        text-align: right;\n",
       "    }\n",
       "</style>\n",
       "<table border=\"1\" class=\"dataframe\">\n",
       "  <thead>\n",
       "    <tr style=\"text-align: right;\">\n",
       "      <th></th>\n",
       "      <th>0</th>\n",
       "    </tr>\n",
       "  </thead>\n",
       "  <tbody>\n",
       "    <tr>\n",
       "      <th>department</th>\n",
       "      <td>0.070741</td>\n",
       "    </tr>\n",
       "    <tr>\n",
       "      <th>education</th>\n",
       "      <td>0.011465</td>\n",
       "    </tr>\n",
       "    <tr>\n",
       "      <th>region</th>\n",
       "      <td>0.053310</td>\n",
       "    </tr>\n",
       "    <tr>\n",
       "      <th>avg_training_score</th>\n",
       "      <td>0.286720</td>\n",
       "    </tr>\n",
       "    <tr>\n",
       "      <th>length_of_service</th>\n",
       "      <td>0.034222</td>\n",
       "    </tr>\n",
       "    <tr>\n",
       "      <th>previous_year_rating</th>\n",
       "      <td>0.543542</td>\n",
       "    </tr>\n",
       "  </tbody>\n",
       "</table>\n",
       "</div>"
      ],
      "text/plain": [
       "                             0\n",
       "department            0.070741\n",
       "education             0.011465\n",
       "region                0.053310\n",
       "avg_training_score    0.286720\n",
       "length_of_service     0.034222\n",
       "previous_year_rating  0.543542"
      ]
     },
     "execution_count": 44,
     "metadata": {},
     "output_type": "execute_result"
    }
   ],
   "source": [
    "\n",
    "classifier.feature_importances_   \n",
    "X_resampled.columns\n",
    "features = pd.DataFrame( classifier.feature_importances_ , index = X_resampled.columns)   \n",
    "features.head(15)\n",
    "\n"
   ]
  },
  {
   "cell_type": "code",
   "execution_count": 45,
   "id": "660bff73",
   "metadata": {
    "execution": {
     "iopub.execute_input": "2025-01-28T18:10:52.826879Z",
     "iopub.status.busy": "2025-01-28T18:10:52.826258Z",
     "iopub.status.idle": "2025-01-28T19:07:49.493042Z",
     "shell.execute_reply": "2025-01-28T19:07:49.491790Z"
    },
    "papermill": {
     "duration": 3416.723473,
     "end_time": "2025-01-28T19:07:49.522894",
     "exception": false,
     "start_time": "2025-01-28T18:10:52.799421",
     "status": "completed"
    },
    "tags": []
   },
   "outputs": [
    {
     "data": {
      "image/png": "[encoded data removed]",
      "text/plain": [
       "<Figure size 1200x800 with 1 Axes>"
      ]
     },
     "metadata": {},
     "output_type": "display_data"
    }
   ],
   "source": [
    "# Generate learning curves\n",
    "\n",
    "train_sizes, train_scores, validation_scores = learning_curve(\n",
    "    estimator=classifier,\n",
    "    X=X_resampled,\n",
    "    y=y_resampled,\n",
    "    cv=5,  # Cross-validation folds\n",
    "    scoring='accuracy',  # Evaluation metric\n",
    "    train_sizes=np.linspace(0.1, 1.0, 10),  # Training sizes from 10% to 100%\n",
    "    random_state=42\n",
    ")\n",
    "\n",
    "# Calculate mean and standard deviation\n",
    "train_mean = np.mean(train_scores, axis=1)\n",
    "train_std = np.std(train_scores, axis=1)\n",
    "validation_mean = np.mean(validation_scores, axis=1)\n",
    "validation_std = np.std(validation_scores, axis=1)\n",
    "\n",
    "# Plot learning curves\n",
    "plt.figure(figsize=(12, 8))\n",
    "plt.plot(train_sizes, train_mean, label='Training Score', color='blue')\n",
    "plt.plot(train_sizes, validation_mean, label='Validation Score', color='green')\n",
    "\n",
    "# Add shaded areas (standard deviation)\n",
    "plt.fill_between(train_sizes, train_mean - train_std, train_mean + train_std, color='blue', alpha=0.2)\n",
    "plt.fill_between(train_sizes, validation_mean - validation_std, validation_mean + validation_std, color='green', alpha=0.2)\n",
    "\n",
    "# Customize the plot\n",
    "plt.title('Learning Curves for Random Forest Classifier')\n",
    "plt.xlabel('Training Size')\n",
    "plt.ylabel('Accuracy')\n",
    "plt.legend(loc='best')\n",
    "plt.grid(True)\n",
    "plt.show()"
   ]
  },
  {
   "cell_type": "markdown",
   "id": "987646f0",
   "metadata": {
    "papermill": {
     "duration": 0.026815,
     "end_time": "2025-01-28T19:07:49.576721",
     "exception": false,
     "start_time": "2025-01-28T19:07:49.549906",
     "status": "completed"
    },
    "tags": []
   },
   "source": [
    "The code plots learning curves for a Random Forest Classifier using accuracy to assess performance, showing how training size impacts overfitting or underfitting. Shaded areas highlight variability, and the plot is well-customized for clarity."
   ]
  },
  {
   "cell_type": "code",
   "execution_count": 46,
   "id": "05a45947",
   "metadata": {
    "execution": {
     "iopub.execute_input": "2025-01-28T19:07:49.632230Z",
     "iopub.status.busy": "2025-01-28T19:07:49.631816Z",
     "iopub.status.idle": "2025-01-28T19:07:52.770240Z",
     "shell.execute_reply": "2025-01-28T19:07:52.769317Z"
    },
    "papermill": {
     "duration": 3.168793,
     "end_time": "2025-01-28T19:07:52.772476",
     "exception": false,
     "start_time": "2025-01-28T19:07:49.603683",
     "status": "completed"
    },
    "tags": []
   },
   "outputs": [],
   "source": [
    "#Predict on the test data\n",
    "y_pred = classifier.predict(x_test)"
   ]
  },
  {
   "cell_type": "code",
   "execution_count": 47,
   "id": "1529c18d",
   "metadata": {
    "execution": {
     "iopub.execute_input": "2025-01-28T19:07:52.827014Z",
     "iopub.status.busy": "2025-01-28T19:07:52.826359Z",
     "iopub.status.idle": "2025-01-28T19:17:45.896976Z",
     "shell.execute_reply": "2025-01-28T19:17:45.896062Z"
    },
    "papermill": {
     "duration": 593.100638,
     "end_time": "2025-01-28T19:17:45.899441",
     "exception": false,
     "start_time": "2025-01-28T19:07:52.798803",
     "status": "completed"
    },
    "tags": []
   },
   "outputs": [],
   "source": [
    "# Cross-validation\n",
    "stratified_kfold = StratifiedKFold(n_splits=5, shuffle=True, random_state=42)\n",
    "cv_accuracies = cross_val_score(\n",
    "    estimator=classifier, \n",
    "    X=X_resampled, \n",
    "    y=y_resampled, \n",
    "    cv=stratified_kfold, \n",
    "    scoring='accuracy'\n",
    ")"
   ]
  },
  {
   "cell_type": "code",
   "execution_count": 48,
   "id": "708d5ca7",
   "metadata": {
    "execution": {
     "iopub.execute_input": "2025-01-28T19:17:45.954383Z",
     "iopub.status.busy": "2025-01-28T19:17:45.953663Z",
     "iopub.status.idle": "2025-01-28T19:17:45.959659Z",
     "shell.execute_reply": "2025-01-28T19:17:45.958596Z"
    },
    "papermill": {
     "duration": 0.035944,
     "end_time": "2025-01-28T19:17:45.961969",
     "exception": false,
     "start_time": "2025-01-28T19:17:45.926025",
     "status": "completed"
    },
    "tags": []
   },
   "outputs": [
    {
     "name": "stdout",
     "output_type": "stream",
     "text": [
      "Cross-Validation Accuracy (Mean): 0.9445\n",
      "Cross-Validation Accuracy (Std): 0.0007\n"
     ]
    }
   ],
   "source": [
    "# Results of Cross-Validation\n",
    "mean_accuracy = np.mean(cv_accuracies)\n",
    "std_accuracy = np.std(cv_accuracies)\n",
    "print(f\"Cross-Validation Accuracy (Mean): {mean_accuracy:.4f}\")\n",
    "print(f\"Cross-Validation Accuracy (Std): {std_accuracy:.4f}\")"
   ]
  },
  {
   "cell_type": "markdown",
   "id": "21242dc6",
   "metadata": {
    "papermill": {
     "duration": 0.026523,
     "end_time": "2025-01-28T19:17:46.015558",
     "exception": false,
     "start_time": "2025-01-28T19:17:45.989035",
     "status": "completed"
    },
    "tags": []
   },
   "source": [
    "# Model Evaluation Metrics"
   ]
  },
  {
   "cell_type": "code",
   "execution_count": 49,
   "id": "a5bc91be",
   "metadata": {
    "execution": {
     "iopub.execute_input": "2025-01-28T19:17:46.070842Z",
     "iopub.status.busy": "2025-01-28T19:17:46.069892Z",
     "iopub.status.idle": "2025-01-28T19:17:46.077133Z",
     "shell.execute_reply": "2025-01-28T19:17:46.075964Z"
    },
    "papermill": {
     "duration": 0.037274,
     "end_time": "2025-01-28T19:17:46.079530",
     "exception": false,
     "start_time": "2025-01-28T19:17:46.042256",
     "status": "completed"
    },
    "tags": []
   },
   "outputs": [],
   "source": [
    "#Accuracy score\n",
    "accuracy = accuracy_score(y_test, y_pred)\n",
    "accuracy_all = accuracy * 100"
   ]
  },
  {
   "cell_type": "code",
   "execution_count": 50,
   "id": "b3af639a",
   "metadata": {
    "execution": {
     "iopub.execute_input": "2025-01-28T19:17:46.134794Z",
     "iopub.status.busy": "2025-01-28T19:17:46.133884Z",
     "iopub.status.idle": "2025-01-28T19:17:46.153179Z",
     "shell.execute_reply": "2025-01-28T19:17:46.152009Z"
    },
    "papermill": {
     "duration": 0.049568,
     "end_time": "2025-01-28T19:17:46.155654",
     "exception": false,
     "start_time": "2025-01-28T19:17:46.106086",
     "status": "completed"
    },
    "tags": []
   },
   "outputs": [],
   "source": [
    "# Precision\n",
    "precision_macro = precision_score(y_test, y_pred, average='macro')\n",
    "precision_weighted = precision_score(y_test, y_pred, average='weighted')\n",
    "precision_micro = precision_score(y_test, y_pred, average='micro')"
   ]
  },
  {
   "cell_type": "code",
   "execution_count": 51,
   "id": "d7a03a4c",
   "metadata": {
    "execution": {
     "iopub.execute_input": "2025-01-28T19:17:46.210878Z",
     "iopub.status.busy": "2025-01-28T19:17:46.209995Z",
     "iopub.status.idle": "2025-01-28T19:17:46.228122Z",
     "shell.execute_reply": "2025-01-28T19:17:46.227172Z"
    },
    "papermill": {
     "duration": 0.048343,
     "end_time": "2025-01-28T19:17:46.230655",
     "exception": false,
     "start_time": "2025-01-28T19:17:46.182312",
     "status": "completed"
    },
    "tags": []
   },
   "outputs": [],
   "source": [
    "# recall\n",
    "recall_macro = recall_score(y_test, y_pred, average='macro')\n",
    "recall_weighted = recall_score(y_test, y_pred, average='weighted')\n",
    "recall_micro = recall_score(y_test, y_pred, average='micro')"
   ]
  },
  {
   "cell_type": "code",
   "execution_count": 52,
   "id": "c45573f6",
   "metadata": {
    "execution": {
     "iopub.execute_input": "2025-01-28T19:17:46.287547Z",
     "iopub.status.busy": "2025-01-28T19:17:46.286634Z",
     "iopub.status.idle": "2025-01-28T19:17:46.305841Z",
     "shell.execute_reply": "2025-01-28T19:17:46.304651Z"
    },
    "papermill": {
     "duration": 0.049787,
     "end_time": "2025-01-28T19:17:46.308683",
     "exception": false,
     "start_time": "2025-01-28T19:17:46.258896",
     "status": "completed"
    },
    "tags": []
   },
   "outputs": [],
   "source": [
    "#F1-Score\n",
    "f1_macro = f1_score(y_test, y_pred, average='macro')\n",
    "f1_weighted = f1_score(y_test, y_pred, average='weighted')\n",
    "f1_micro = f1_score(y_test, y_pred, average='micro')"
   ]
  },
  {
   "cell_type": "code",
   "execution_count": 53,
   "id": "c9d613a0",
   "metadata": {
    "execution": {
     "iopub.execute_input": "2025-01-28T19:17:46.364725Z",
     "iopub.status.busy": "2025-01-28T19:17:46.364375Z",
     "iopub.status.idle": "2025-01-28T19:17:46.372000Z",
     "shell.execute_reply": "2025-01-28T19:17:46.371025Z"
    },
    "papermill": {
     "duration": 0.039236,
     "end_time": "2025-01-28T19:17:46.374521",
     "exception": false,
     "start_time": "2025-01-28T19:17:46.335285",
     "status": "completed"
    },
    "tags": []
   },
   "outputs": [],
   "source": [
    "cm = confusion_matrix(y_test,y_pred)"
   ]
  },
  {
   "cell_type": "code",
   "execution_count": 54,
   "id": "7f944365",
   "metadata": {
    "execution": {
     "iopub.execute_input": "2025-01-28T19:17:46.431053Z",
     "iopub.status.busy": "2025-01-28T19:17:46.430627Z",
     "iopub.status.idle": "2025-01-28T19:17:46.438022Z",
     "shell.execute_reply": "2025-01-28T19:17:46.436801Z"
    },
    "papermill": {
     "duration": 0.037655,
     "end_time": "2025-01-28T19:17:46.440219",
     "exception": false,
     "start_time": "2025-01-28T19:17:46.402564",
     "status": "completed"
    },
    "tags": []
   },
   "outputs": [
    {
     "name": "stdout",
     "output_type": "stream",
     "text": [
      "\n",
      "Performance with Selected Features:\n",
      "Accuracy: 94.23%\n",
      "\n",
      "Precision:\n",
      "Macro: 0.9450    Weighted: 0.9448    Micro: 0.9423\n",
      "\n",
      "Recall:\n",
      "Macro: 0.9420    Weighted: 0.9423    Micro: 0.9423\n",
      "\n",
      "F1-Score:\n",
      "Macro: 0.9422    Weighted: 0.9422    Micro: 0.9423\n"
     ]
    }
   ],
   "source": [
    "#Print results fo rAccuracy, Precision ,Recall ,F1-Score.\n",
    "print(\"\\nPerformance with Selected Features:\")\n",
    "print(f\"Accuracy: {accuracy_all:.2f}%\\n\")\n",
    "print(\"Precision:\") \n",
    "print(f\"Macro: {precision_macro:.4f}    Weighted: {precision_weighted:.4f}    Micro: {precision_micro:.4f}\\n\")\n",
    "\n",
    "print(\"Recall:\")\n",
    "print(f\"Macro: {recall_macro:.4f}    Weighted: {recall_weighted:.4f}    Micro: {recall_micro:.4f}\\n\")\n",
    "\n",
    "print(\"F1-Score:\")\n",
    "print(f\"Macro: {f1_macro:.4f}    Weighted: {f1_weighted:.4f}    Micro: {f1_micro:.4f}\")\n"
   ]
  },
  {
   "cell_type": "markdown",
   "id": "bb48efc8",
   "metadata": {
    "papermill": {
     "duration": 0.026918,
     "end_time": "2025-01-28T19:17:46.493656",
     "exception": false,
     "start_time": "2025-01-28T19:17:46.466738",
     "status": "completed"
    },
    "tags": []
   },
   "source": [
    "# Visualize Matrics"
   ]
  },
  {
   "cell_type": "code",
   "execution_count": 55,
   "id": "0484e13f",
   "metadata": {
    "execution": {
     "iopub.execute_input": "2025-01-28T19:17:46.551510Z",
     "iopub.status.busy": "2025-01-28T19:17:46.550809Z",
     "iopub.status.idle": "2025-01-28T19:17:46.834898Z",
     "shell.execute_reply": "2025-01-28T19:17:46.833851Z"
    },
    "papermill": {
     "duration": 0.31684,
     "end_time": "2025-01-28T19:17:46.837274",
     "exception": false,
     "start_time": "2025-01-28T19:17:46.520434",
     "status": "completed"
    },
    "tags": []
   },
   "outputs": [
    {
     "data": {
      "image/png": "[encoded data removed]",
      "text/plain": [
       "<Figure size 1000x600 with 1 Axes>"
      ]
     },
     "metadata": {},
     "output_type": "display_data"
    }
   ],
   "source": [
    "#Visualize  F1-Score:\n",
    "f1_scores = {\n",
    "    'Macro': 0.9450 ,     \n",
    "    'Weighted':   0.9420 ,  \n",
    "    'Micro':    0.9422      \n",
    "}\n",
    "\n",
    "f1_types = list(f1_scores.keys())\n",
    "f1_values = list(f1_scores.values())\n",
    "\n",
    "colors = plt.cm.Blues(np.linspace(0.7, 0.1, len(f1_values)))\n",
    "\n",
    "plt.figure(figsize=(10, 6))\n",
    "bars = plt.barh(f1_types, f1_values, color=colors)\n",
    "\n",
    "for bar in bars:\n",
    "    plt.text(bar.get_width() + 0.002, bar.get_y() + bar.get_height()/2, \n",
    "             f'{bar.get_width():.4f}', va='center', fontsize=10)\n",
    "\n",
    "plt.xlim(0, 1)   \n",
    "plt.title('  F1-Score  ', fontsize=14)\n",
    "plt.xlabel('Score', fontsize=12)\n",
    "plt.ylabel('F1-Score Type', fontsize=12)\n",
    "plt.grid(axis='x', linestyle='--', alpha=0.7)\n",
    "\n",
    " "
   ]
  },
  {
   "cell_type": "code",
   "execution_count": 56,
   "id": "1954e35f",
   "metadata": {
    "execution": {
     "iopub.execute_input": "2025-01-28T19:17:46.894367Z",
     "iopub.status.busy": "2025-01-28T19:17:46.893989Z",
     "iopub.status.idle": "2025-01-28T19:17:47.073557Z",
     "shell.execute_reply": "2025-01-28T19:17:47.072388Z"
    },
    "papermill": {
     "duration": 0.212344,
     "end_time": "2025-01-28T19:17:47.077275",
     "exception": false,
     "start_time": "2025-01-28T19:17:46.864931",
     "status": "completed"
    },
    "tags": []
   },
   "outputs": [
    {
     "data": {
      "image/png": "[encoded data removed]",
      "text/plain": [
       "<Figure size 1000x600 with 1 Axes>"
      ]
     },
     "metadata": {},
     "output_type": "display_data"
    }
   ],
   "source": [
    "# Visualize Recall \n",
    "recall_scores = {\n",
    "    'Macro': 0.9450 ,     \n",
    "    'Weighted':   0.9420 ,  \n",
    "    'Micro':    0.9422      \n",
    "}\n",
    "\n",
    "recall_types = list(recall_scores.keys())\n",
    "recall_values = list(recall_scores.values())\n",
    "\n",
    "colors = plt.cm.Blues(np.linspace(0.5, 1, len(recall_values)))\n",
    "\n",
    "plt.figure(figsize=(10, 6))\n",
    "bars = plt.barh(recall_types, recall_values, color=colors)\n",
    "\n",
    "for bar in bars:\n",
    "    plt.text(bar.get_width() + 0.002, bar.get_y() + bar.get_height()/2, \n",
    "             f'{bar.get_width():.4f}', va='center', fontsize=10)\n",
    "\n",
    "plt.xlim(0, 1)   \n",
    "plt.title('  Recall  ', fontsize=14)\n",
    "plt.xlabel('Score', fontsize=12)\n",
    "plt.ylabel('Recall Type', fontsize=12)\n",
    "plt.grid(axis='x', linestyle='--', alpha=0.7)\n",
    "\n",
    "plt.show()"
   ]
  },
  {
   "cell_type": "code",
   "execution_count": 57,
   "id": "fa74dd68",
   "metadata": {
    "execution": {
     "iopub.execute_input": "2025-01-28T19:17:47.136996Z",
     "iopub.status.busy": "2025-01-28T19:17:47.136257Z",
     "iopub.status.idle": "2025-01-28T19:17:47.320383Z",
     "shell.execute_reply": "2025-01-28T19:17:47.318878Z"
    },
    "papermill": {
     "duration": 0.215953,
     "end_time": "2025-01-28T19:17:47.322844",
     "exception": false,
     "start_time": "2025-01-28T19:17:47.106891",
     "status": "completed"
    },
    "tags": []
   },
   "outputs": [
    {
     "data": {
      "image/png": "[encoded data removed]",
      "text/plain": [
       "<Figure size 1000x600 with 1 Axes>"
      ]
     },
     "metadata": {},
     "output_type": "display_data"
    }
   ],
   "source": [
    "# Visualize Precision \n",
    "precision_scores = {\n",
    "    'Macro': 0.9450 ,     \n",
    "    'Weighted':   0.9420 ,  \n",
    "    'Micro':    0.9422        \n",
    "}\n",
    "\n",
    "precision_types = list(precision_scores.keys())\n",
    "precision_values = list(precision_scores.values())\n",
    "\n",
    "colors = plt.cm.Blues(np.linspace(0.6, 0.1, len(precision_values)))\n",
    "\n",
    "plt.figure(figsize=(10, 6))\n",
    "bars = plt.barh(precision_types, precision_values, color=colors)\n",
    "\n",
    "for bar in bars:\n",
    "    plt.text(bar.get_width() + 0.002, bar.get_y() + bar.get_height()/2, \n",
    "             f'{bar.get_width():.4f}', va='center', fontsize=10)\n",
    "\n",
    "plt.xlim(0, 1)   \n",
    "plt.title('  Precision  ', fontsize=14)\n",
    "plt.xlabel('Score', fontsize=12)\n",
    "plt.ylabel('Precision Type', fontsize=12)\n",
    "plt.grid(axis='x', linestyle='--', alpha=0.7)\n",
    "\n",
    "plt.show()"
   ]
  },
  {
   "cell_type": "code",
   "execution_count": 58,
   "id": "e21c3567",
   "metadata": {
    "execution": {
     "iopub.execute_input": "2025-01-28T19:17:47.382414Z",
     "iopub.status.busy": "2025-01-28T19:17:47.381737Z",
     "iopub.status.idle": "2025-01-28T19:17:47.688575Z",
     "shell.execute_reply": "2025-01-28T19:17:47.687486Z"
    },
    "papermill": {
     "duration": 0.338474,
     "end_time": "2025-01-28T19:17:47.690874",
     "exception": false,
     "start_time": "2025-01-28T19:17:47.352400",
     "status": "completed"
    },
    "tags": []
   },
   "outputs": [
    {
     "data": {
      "image/png": "[encoded data removed]",
      "text/plain": [
       "<Figure size 800x600 with 2 Axes>"
      ]
     },
     "metadata": {},
     "output_type": "display_data"
    }
   ],
   "source": [
    "#Visualize relationships between values using a heatmap\n",
    "plt.figure(figsize=(8, 6))\n",
    "sns.heatmap(cm, annot=True, fmt=\"d\", cmap=\"Blues\", xticklabels=np.unique(y), yticklabels=np.unique(y))\n",
    "plt.title(\"Confusion Matrix Heatmap\")\n",
    "plt.xlabel(\"Predicted Labels\")\n",
    "plt.ylabel(\"True Labels\")\n",
    "plt.show()"
   ]
  },
  {
   "cell_type": "markdown",
   "id": "81170a2d",
   "metadata": {
    "papermill": {
     "duration": 0.028169,
     "end_time": "2025-01-28T19:17:47.748247",
     "exception": false,
     "start_time": "2025-01-28T19:17:47.720078",
     "status": "completed"
    },
    "tags": []
   },
   "source": [
    "confusion matrix using a heatmap helps visualize the model's accuracy by comparing the true values with the predicted values. The heatmap shows how correct the predictions are, with values in the main diagonal indicating correct predictions and values outside the diagonal showing errors. This visualization allows for analyzing the model's mistakes and aids in improving it."
   ]
  },
  {
   "cell_type": "code",
   "execution_count": 59,
   "id": "62778065",
   "metadata": {
    "execution": {
     "iopub.execute_input": "2025-01-28T19:17:47.807044Z",
     "iopub.status.busy": "2025-01-28T19:17:47.806617Z",
     "iopub.status.idle": "2025-01-28T19:17:51.306992Z",
     "shell.execute_reply": "2025-01-28T19:17:51.305799Z"
    },
    "papermill": {
     "duration": 3.533213,
     "end_time": "2025-01-28T19:17:51.309837",
     "exception": false,
     "start_time": "2025-01-28T19:17:47.776624",
     "status": "completed"
    },
    "tags": []
   },
   "outputs": [
    {
     "data": {
      "image/png": "[encoded data removed]",
      "text/plain": [
       "<Figure size 1000x700 with 1 Axes>"
      ]
     },
     "metadata": {},
     "output_type": "display_data"
    },
    {
     "name": "stdout",
     "output_type": "stream",
     "text": [
      "AUC Score: 0.9724\n"
     ]
    }
   ],
   "source": [
    "# Get prediction probabilities (focusing on the positive class only)\n",
    "y_prob = classifier.predict_proba(x_test)[:, 1]  # Extract probability for the positive class\n",
    "\n",
    "# Calculate ROC curve points\n",
    "fpr, tpr, thresholds = roc_curve(y_test, y_prob)\n",
    "roc_auc = auc(fpr, tpr)\n",
    "\n",
    "# Plot the ROC Curve\n",
    "plt.figure(figsize=(10, 7))\n",
    "plt.plot(fpr, tpr, color='blue', lw=2, label=f'ROC Curve (AUC = {roc_auc:.2f})')\n",
    "plt.plot([0, 1], [0, 1], color='gray', lw=1, linestyle='--')  # Diagonal reference line\n",
    "plt.xlim([0.0, 1.0])\n",
    "plt.ylim([0.0, 1.05])\n",
    "plt.xlabel('False Positive Rate')\n",
    "plt.ylabel('True Positive Rate')\n",
    "plt.title('Receiver Operating Characteristic (ROC) Curve')\n",
    "plt.legend(loc=\"lower right\")\n",
    "plt.show()\n",
    "\n",
    "# Display the AUC score\n",
    "print(f\"AUC Score: {roc_auc:.4f}\")\n"
   ]
  },
  {
   "cell_type": "markdown",
   "id": "99c4d89d",
   "metadata": {
    "papermill": {
     "duration": 0.030207,
     "end_time": "2025-01-28T19:17:51.369963",
     "exception": false,
     "start_time": "2025-01-28T19:17:51.339756",
     "status": "completed"
    },
    "tags": []
   },
   "source": [
    " This code generates and plots the ROC curve for a classifier, focusing on the positive class probabilities. It calculates the true positive rate (TPR) and false positive rate (FPR) at various thresholds and computes the AUC score to summarize the classifier's performance. The plot includes a diagonal reference line for random performance, making it easy to assess the classifier's effectiveness. The AUC score is also printed for numerical evaluation.\n",
    "\n"
   ]
  }
 ],
 "metadata": {
  "kaggle": {
   "accelerator": "nvidiaTeslaT4",
   "dataSources": [
    {
     "datasetId": 1610414,
     "sourceId": 2648265,
     "sourceType": "datasetVersion"
    }
   ],
   "dockerImageVersionId": 30804,
   "isGpuEnabled": true,
   "isInternetEnabled": true,
   "language": "python",
   "sourceType": "notebook"
  },
  "kernelspec": {
   "display_name": "Python 3",
   "language": "python",
   "name": "python3"
  },
  "language_info": {
   "codemirror_mode": {
    "name": "ipython",
    "version": 3
   },
   "file_extension": ".py",
   "mimetype": "text/x-python",
   "name": "python",
   "nbconvert_exporter": "python",
   "pygments_lexer": "ipython3",
   "version": "3.10.14"
  },
  "papermill": {
   "default_parameters": {},
   "duration": 4148.479202,
   "end_time": "2025-01-28T19:17:52.321311",
   "environment_variables": {},
   "exception": null,
   "input_path": "__notebook__.ipynb",
   "output_path": "__notebook__.ipynb",
   "parameters": {},
   "start_time": "2025-01-28T18:08:43.842109",
   "version": "2.6.0"
  }
 },
 "nbformat": 4,
 "nbformat_minor": 5
}
